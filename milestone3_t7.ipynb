{
 "cells": [
  {
   "cell_type": "markdown",
   "metadata": {},
   "source": [
    "## Milestone 3 Task 7: Update dim_card_details"
   ]
  },
  {
   "cell_type": "code",
   "execution_count": 1,
   "metadata": {},
   "outputs": [],
   "source": [
    "import yaml\n",
    "import psycopg2"
   ]
  },
  {
   "cell_type": "code",
   "execution_count": 2,
   "metadata": {},
   "outputs": [
    {
     "name": "stdout",
     "output_type": "stream",
     "text": [
      "Connected to sales_data database\n",
      "(19, 5)\n",
      "Task 7: Operations on dim_card_details completed successfully.\n",
      "Connection closed\n"
     ]
    }
   ],
   "source": [
    "# Load database credentials from YAML file\n",
    "with open('rds_upload_db_creds.yaml', 'r') as file:\n",
    "    creds = yaml.safe_load(file)\n",
    "\n",
    "try:\n",
    "    # Establish a database connection\n",
    "    connection = psycopg2.connect(\n",
    "        host=creds['RDS_HOST'],\n",
    "        user=creds['RDS_USER'],\n",
    "        password=creds['RDS_PASSWORD'],\n",
    "        database=creds['RDS_DATABASE']\n",
    "    )\n",
    "    # Check if the connection was successful\n",
    "    if connection:\n",
    "        print (f\"Connected to {creds['RDS_DATABASE']} database\")\n",
    "\n",
    "    # Task 7: Update the dim_card_details table\n",
    "    with connection.cursor() as cursor:\n",
    "        cursor.execute(\"\"\"\n",
    "            SELECT MAX(LENGTH(card_number)) AS max_card_number_length,\n",
    "                    MAX(LENGTH(expiry_date)) AS max_expiry_date_length\n",
    "            FROM dim_card_details\n",
    "        \"\"\")\n",
    "        max_lengths = cursor.fetchone()\n",
    "        print(max_lengths)\n",
    "\n",
    "    with connection.cursor() as cursor:\n",
    "        # Execute ALTER TABLE commands\n",
    "        cursor.execute(\"ALTER TABLE dim_card_details ALTER COLUMN card_number TYPE VARCHAR(%s);\", (max_lengths[0],))\n",
    "        cursor.execute(\"ALTER TABLE dim_card_details ALTER COLUMN expiry_date TYPE VARCHAR(%s);\", (max_lengths[1],))\n",
    "        cursor.execute(\"ALTER TABLE dim_card_details ALTER COLUMN date_payment_confirmed TYPE DATE USING date_payment_confirmed::DATE;\")\n",
    "            \n",
    "        \n",
    "        # Commit the transaction\n",
    "        connection.commit()\n",
    "        print(\"Task 7: Operations on dim_card_details completed successfully.\")\n",
    "\n",
    "\n",
    "except Exception as e:\n",
    "    print(f\"Error: {e}\")\n",
    "\n",
    "finally:\n",
    "    # Close the connection\n",
    "    if connection:\n",
    "        connection.close()\n",
    "        \n",
    "        print(\"Connection closed\")"
   ]
  },
  {
   "cell_type": "markdown",
   "metadata": {},
   "source": []
  }
 ],
 "metadata": {
  "kernelspec": {
   "display_name": "base",
   "language": "python",
   "name": "python3"
  },
  "language_info": {
   "codemirror_mode": {
    "name": "ipython",
    "version": 3
   },
   "file_extension": ".py",
   "mimetype": "text/x-python",
   "name": "python",
   "nbconvert_exporter": "python",
   "pygments_lexer": "ipython3",
   "version": "3.11.6"
  }
 },
 "nbformat": 4,
 "nbformat_minor": 2
}
