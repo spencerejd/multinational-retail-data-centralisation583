{
 "cells": [
  {
   "cell_type": "code",
   "execution_count": 1,
   "metadata": {},
   "outputs": [],
   "source": [
    "from data_extraction import DataExtractor\n",
    "from data_cleaning import DataCleaning\n",
    "import pandas as pd\n",
    "from database_utils import DatabaseConnector"
   ]
  },
  {
   "cell_type": "markdown",
   "metadata": {},
   "source": [
    "You currently have your 'stores_df' DataFrame downloaded as a csv file. To reduce the number of API calls you have made, you will convert the csv file into a DataFrame and use that to create the method for cleaning the DataFrame."
   ]
  },
  {
   "cell_type": "code",
   "execution_count": 2,
   "metadata": {},
   "outputs": [
    {
     "name": "stdout",
     "output_type": "stream",
     "text": [
      "<class 'pandas.core.frame.DataFrame'>\n",
      "RangeIndex: 451 entries, 0 to 450\n",
      "Data columns (total 12 columns):\n",
      " #   Column         Non-Null Count  Dtype \n",
      "---  ------         --------------  ----- \n",
      " 0   index          451 non-null    int64 \n",
      " 1   address        447 non-null    object\n",
      " 2   longitude      447 non-null    object\n",
      " 3   lat            7 non-null      object\n",
      " 4   locality       447 non-null    object\n",
      " 5   store_code     448 non-null    object\n",
      " 6   staff_numbers  448 non-null    object\n",
      " 7   opening_date   448 non-null    object\n",
      " 8   store_type     448 non-null    object\n",
      " 9   latitude       447 non-null    object\n",
      " 10  country_code   448 non-null    object\n",
      " 11  continent      448 non-null    object\n",
      "dtypes: int64(1), object(11)\n",
      "memory usage: 42.4+ KB\n"
     ]
    }
   ],
   "source": [
    "stores_df = pd.read_csv('stores_data.csv')\n",
    "\n",
    "stores_df.info()"
   ]
  },
  {
   "cell_type": "code",
   "execution_count": 3,
   "metadata": {},
   "outputs": [
    {
     "name": "stdout",
     "output_type": "stream",
     "text": [
      "   index address longitude  lat locality    store_code staff_numbers  \\\n",
      "0      0     NaN       NaN  NaN      NaN  WEB-1388012W           325   \n",
      "\n",
      "  opening_date  store_type latitude country_code continent  \n",
      "0   2010-06-12  Web Portal      NaN           GB    Europe  \n"
     ]
    }
   ],
   "source": [
    "store_code = \"WEB-1388012W\"\n",
    "selected_rows = stores_df.loc[stores_df['store_code'] == store_code]\n",
    "print(selected_rows)"
   ]
  },
  {
   "cell_type": "code",
   "execution_count": 4,
   "metadata": {},
   "outputs": [
    {
     "name": "stdout",
     "output_type": "stream",
     "text": [
      "Empty DataFrame\n",
      "Columns: [index, address, longitude, lat, locality, store_code, staff_numbers, opening_date, store_type, latitude, country_code, continent]\n",
      "Index: []\n"
     ]
    }
   ],
   "source": [
    "desired_store_value = 'WEB-1388012W'\n",
    "result_row = stores_df.loc[stores_df['store_code'] == desired_store_value]\n",
    "print(result_row)"
   ]
  },
  {
   "cell_type": "code",
   "execution_count": 4,
   "metadata": {},
   "outputs": [
    {
     "name": "stdout",
     "output_type": "stream",
     "text": [
      "DataFrame cleaning operation initiated.\n",
      "<class 'pandas.core.frame.DataFrame'>\n",
      "Index: 441 entries, 0 to 450\n",
      "Data columns (total 11 columns):\n",
      " #   Column         Non-Null Count  Dtype \n",
      "---  ------         --------------  ----- \n",
      " 0   address        440 non-null    object\n",
      " 1   longitude      440 non-null    object\n",
      " 2   lat            0 non-null      object\n",
      " 3   locality       440 non-null    object\n",
      " 4   store_code     441 non-null    object\n",
      " 5   staff_numbers  441 non-null    object\n",
      " 6   opening_date   441 non-null    object\n",
      " 7   store_type     441 non-null    object\n",
      " 8   latitude       440 non-null    object\n",
      " 9   country_code   441 non-null    object\n",
      " 10  continent      441 non-null    object\n",
      "dtypes: object(11)\n",
      "memory usage: 41.3+ KB\n"
     ]
    }
   ],
   "source": [
    "# Create an instance of the DataCleaning class, passing our DataFrame as an argument\n",
    "cleaner = DataCleaning(stores_df)\n",
    "\n",
    "# Clean the stores_df DataFrame\n",
    "clean_stores_df = cleaner.clean_store_data()\n",
    "\n",
    "clean_stores_df.info()"
   ]
  },
  {
   "cell_type": "code",
   "execution_count": 5,
   "metadata": {},
   "outputs": [
    {
     "name": "stdout",
     "output_type": "stream",
     "text": [
      "['AB-30E0C17F', 'AB-316DE4BA', 'AB-337AEBA7', 'AB-4ABD6D51', 'AB-917B715E', 'AB-D04AA29C', 'AB-D5ABF437', 'AB-D665986A', 'AB-FCFAB1A9', 'AL-34ABF27F', 'AL-91D3A03C', 'AL-9E1A5529', 'AL-EE8984F0', 'AL-FB5FAE9B', 'AR-0C5116E4', 'AR-2284FD32', 'AR-2D9D5CD3', 'AR-5E72668B', 'AR-ADA61B10', 'AR-CB0D95D8', 'AR-D3FDDD1D', 'AR-E8FDEB2B', 'AR-EE57502B', 'AR-F938FB8E', 'AS-373D10B2', 'AS-D26C759B', 'BA-25629F8E', 'BA-3A37248A', 'BA-41B2EB4B', 'BA-898BDED3', 'BA-8BA66AA0', 'BA-91C512D2', 'BA-99F54BD0', 'BA-B0933185', 'BA-B4AED588', 'BA-C0C7FDBE', 'BE-028A2748', 'BE-09F94471', 'BE-18074576', 'BE-2DE7E6FD', 'BE-6F48991F', 'BE-7C142381', 'BE-7D0EF647', 'BE-8C0CF738', 'BE-9A378A7F', 'BE-B069E157', 'BE-BC3E4F9A', 'BE-C5C7E600', 'BE-DAD46DCD', 'BE-F4596696', 'BE-F9462A80', 'BL-04FD6EF3', 'BL-190ABD7D', 'BL-8387506C', 'BL-9A86B74D', 'BL-D6CF153F', 'BO-17E7B6CE', 'BR-09D8DE69', 'BR-0DCD7EE0', 'BR-662EC74C', 'BR-B7C294A7', 'BR-BC499EDD', 'BR-CACF7508', 'BR-FB62A5BA', 'BU-0FB4CF87', 'BU-19BB50F6', 'BU-251A0E5A', 'BU-3020DF6C', 'BU-3FC2A064', 'BU-44F16401', 'BU-550D8325', 'BU-5B54171E', 'BU-784362E0', 'BU-79F72A64', 'BU-834779E4', 'BU-89E4DEC5', 'BU-90D457E0', 'BU-B5B6F452', 'BU-FB96B095', 'CA-70469742', 'CH-01D85C8D', 'CH-01DEFD68', 'CH-164A23FB', 'CH-42F9D8D8', 'CH-619E036C', 'CH-6A561423', 'CH-6ADEBD99', 'CH-6D105C69', 'CH-7638016B', 'CH-7771B336', 'CH-7C155EA7', 'CH-7E92F288', 'CH-86DFF57D', 'CH-8A74708A', 'CH-99475026', 'CH-A44B48E6', 'CH-C98AC168', 'CH-C9AB9518', 'CH-DCCDE05E', 'CH-DEF208AA', 'CH-E1344D81', 'CH-FBB32B94', 'CL-0FB1065C', 'CL-361E75EC', 'CL-5C7C3198', 'CL-7BF16887', 'CL-C183BE4B', 'CL-DA5365DF', 'CL-DA786EF6', 'CO-308FF73B', 'CO-3971C69C', 'CO-473A9FBB', 'CO-9A576872', 'CO-CB3D8C89', 'CO-D819CC5E', 'CO-EAEDFFF3', 'CR-6B885B5E', 'CR-792AA8BB', 'DA-ACC520AE', 'DA-D9DC550B', 'DE-12392F66', 'DE-504A9BFE', 'DE-585399CF', 'EA-24B31935', 'EA-6B5D31D8', 'EA-77ECA680', 'EA-7965E06D', 'EA-BE6D0CF8', 'EA-EB4F2E1B', 'EA-EC2DAADE', 'EH-91356030', 'EH-945D8F25', 'EH-BB9AECF5', 'EH-DB65F258', 'EH-DB8676C1', 'EP-105C3FB5', 'EP-6E0918AF', 'EP-E66BE479', 'EX-2C210EBF', 'EX-2E8DF595', 'EX-41AC3888', 'EX-82831D93', 'EX-9ED6711E', 'EX-A01E0020', 'EX-A3F2DB7C', 'EX-B1AACC7D', 'EX-B3F5CFB1', 'EX-B4EE25D8', 'EX-FA379F57', 'FA-0A1B14FB', 'FA-6A7ABBAD', 'FR-0FA7D921', 'FR-91D11D69', 'FR-A86E698A', 'FR-C04291C3', 'GA-190B3F6D', 'GA-2252ED9A', 'GA-400CC35C', 'GA-5957F561', 'GA-846D92B4', 'GA-BA05E5A8', 'GA-CAD01AC2', 'GA-D570038A', 'GA-DA8EEA4A', 'GI-718674C0', 'GR-16C93F4D', 'GR-18E26E0C', 'GR-250FBD0C', 'GR-30543E4C', 'GR-61A03D84', 'GR-63F021A1', 'GR-664E0CB3', 'GR-6D292223', 'GR-84BD26D4', 'GR-9049A708', 'GR-911A7DFC', 'HA-10EEDC1D', 'HA-1BAE9B71', 'HA-39A446E2', 'HA-41E65DD9', 'HA-859769AF', 'HA-974352FE', 'HA-B6953307', 'HA-CCBCBF87', 'HA-FC4E6AFF', 'HE-2908B53E', 'HE-84E62AB9', 'HE-8818F573', 'HE-A49D28DF', 'HE-E39F4BC6', 'HI-7B43DCA9', 'HI-9B97EE4E', 'HI-AED3C6CD', 'HI-BAD4DD1C', 'HI-BED70096', 'HI-D59BBEEC', 'HI-EEA7AE62', 'HI-F2784D72', 'HI-F27C7A84', 'HI-FD1137FA', 'HO-16A376B0', 'HO-85D2BA5B', 'HO-978C59DC', 'HO-CE40B554', 'HU-57B095A2', 'IN-157E1191', 'IN-827175EE', 'IN-8A98027C', 'IN-C4060B7D', 'IN-CC1993CF', 'IN-E47115F0', 'IR-C8DAAB31', 'JA-49A2D7F5', 'JE-3AF1D134', 'KA-249967D9', 'KA-653E783F', 'KA-9D87BC15', 'KA-FA7ED3B8', 'KI-107167CD', 'KI-137ED849', 'KI-78096E8C', 'KI-81D6FEBD', 'KI-967D1E81', 'KI-A53AF10A', 'KI-AF3A421C', 'KI-DD9663C2', 'KO-7E39C57F', 'KO-975B107F', 'LA-0772C7B9', 'LA-0E85631B', 'LA-2B59A825', 'LA-347073D1', 'LA-55069B69', 'LA-6AAC1779', 'LA-6D1FE061', 'LA-77BE2ADA', 'LA-7A9AA65C', 'LA-9B0D9277', 'LA-9F489A77', 'LA-A12C3D8F', 'LA-BC0455E1', 'LA-C1E143DE', 'LA-D78C5F3F', 'LA-DE474D42', 'LA-F0652295', 'LA-F1042C48', 'LE-1438EF01', 'LE-14B7245B', 'LE-1E8CCAFA', 'LE-63F3D33B', 'LE-84C48B9F', 'LO-3DD01CA8', 'LO-74DBE049', 'LO-8E1CA9E3', 'LO-AB6B6DF8', 'LO-C4AB23C1', 'LO-D54E72B5', 'LO-EC0C9189', 'LO-ED733BA2', 'LO-F33AC948', 'LU-439557A9', 'LY-120579E6', 'LY-4C3D5D6C', 'LY-73842BE8', 'LY-89B9F675', 'LY-D37CAF45', 'LY-FC3B1157', 'MA-0D207813', 'MA-20E6EB37', 'MA-316BDC6E', 'MA-F0E23355', 'ME-31958763', 'ME-6529390A', 'ME-9940FF73', 'ME-B363FDAA', 'ME-C1AF27C3', 'ME-D9ECD7DF', 'ME-FB62E459', 'MI-20EE1BFA', 'MI-D57825AA', 'MO-E8CFF8FE', 'NE-01250B4B', 'NE-1D8B1D0C', 'NE-2B35DCBD', 'NE-374D3983', 'NE-6046DE65', 'NE-C83B8B22', 'NE-D1A20330', 'NE-E50207AD', 'NE-EE2A190D', 'NI-AB0FECD7', 'NI-D757F308', 'OB-4B85CD4E', 'OB-7A4A9012', 'OB-B57D2016', 'OB-FDC2CF69', 'OS-4BF93680', 'OS-70B2CD28', 'OS-EE0CC48A', 'PE-040B15C3', 'PE-086FA5EE', 'PE-360EA944', 'PE-52B1E131', 'PE-60C328DB', 'PE-78E2B585', 'PE-8BF5FE22', 'PE-F9CF2B74', 'PF-1D7B0646', 'PF-4FB7B30C', 'PF-BADFAEDC', 'PF-D90B564A', 'PF-F54C3265', 'PF-F95902BC', 'PO-38790FAE', 'PO-3A1A12CD', 'PO-47A01287', 'PO-4AF8FC4D', 'PO-99029708', 'PO-D4D326B4', 'PO-E636D18D', 'PO-EB96293A', 'RA-2A22B217', 'RA-412FE889', 'RA-583F0CF9', 'RA-5F41ED85', 'RA-C25EE56A', 'RE-4D07B5F2', 'RE-75445D60', 'RE-FAF57EF7', 'RH-450F1A1B', 'RH-80D609C9', 'RH-AB6C3782', 'RH-F3E200B7', 'RU-1994A94D', 'RU-514020AC', 'RU-798BB83A', 'RU-9D16C525', 'RU-9DF20437', 'RU-9F1136B4', 'RU-AE12736B', 'RU-BFF916C5', 'RU-C603E990', 'RU-DA6DCDA7', 'RU-F0666E4B', 'SC-4928418D', 'SC-4AE031F4', 'SC-8724E112', 'SC-ADA59883', 'SC-FFDD5A57', 'SE-09EAF854', 'SE-531CB6EE', 'SE-596EAA50', 'SE-68A67454', 'SE-8DF6557B', 'SE-C44E6951', 'SE-E21DDC72', 'SE-F428A035', 'SI-3E5F4AD9', 'SI-66F97423', 'SI-C489938D', 'SI-ECD52CD9', 'SO-6D328417', 'SO-6D546AD2', 'SO-B5B9CB3B', 'ST-06E21C4A', 'ST-10F19C97', 'ST-119B11EA', 'ST-1DAA85E6', 'ST-229D997E', 'ST-32641EC1', 'ST-3C93FBF2', 'ST-4D2E1D55', 'ST-6590521C', 'ST-76D54DCB', 'ST-8D1A43F1', 'ST-B754F535', 'ST-D14ED89D', 'SU-0B4C9A5F', 'SU-163D2755', 'SU-203C8474', 'SU-346D5CF2', 'SU-40E3321A', 'SU-5F78B30A', 'SU-95D20AE9', 'SU-ABF4F9A1', 'SU-B415327A', 'SU-EFC31DF9', 'TH-142AE777', 'TH-B6A0AB51', 'TH-B8F42840', 'TH-D62B06B7', 'TH-D94B2E76', 'TR-4E1AF636', 'TR-658557DD', 'TR-8CD56339', 'VE-1050754E', 'VE-38B76FFE', 'VE-93DA8430', 'VE-B81F9500', 'VE-EE7A1F48', 'VI-43751A71', 'VI-682A89FF', 'VI-68DB8362', 'VI-8EBC5471', 'VI-9A93E3E2', 'VI-B13ACF87', 'VI-BCBBC21A', 'WA-0A35C594', 'WA-0E6E657C', 'WA-34998EB8', 'WA-58021322', 'WA-905645E6', 'WA-A34BF06C', 'WA-A41DA979', 'WA-ED4B495E', 'WA-F4396DF8', 'WA-FF3389AF', 'WE-0E145AF9', 'WE-1DE82CEE', 'WE-298C66F0', 'WE-31C8B335', 'WE-41EFA2D6', 'WE-54DE559C', 'WE-55D0E7FF', 'WE-5B0343D9', 'WE-605028E4', 'WE-69BFEA46', 'WE-A6C131B0', 'WE-B278D336', 'WE-C5C34475', 'WE-DC3933D4', 'WE-FF0F6BA4', 'WEB-1388012W', 'WI-1BEEB9CA', 'WI-1EA140B1', 'WI-293A03C1', 'WI-37616D0E', 'WI-56B02C82', 'WI-5CDC1053', 'ZE-BBF02AEA', 'ZE-EA9C82AA']\n"
     ]
    },
    {
     "data": {
      "text/html": [
       "<div>\n",
       "<style scoped>\n",
       "    .dataframe tbody tr th:only-of-type {\n",
       "        vertical-align: middle;\n",
       "    }\n",
       "\n",
       "    .dataframe tbody tr th {\n",
       "        vertical-align: top;\n",
       "    }\n",
       "\n",
       "    .dataframe thead th {\n",
       "        text-align: right;\n",
       "    }\n",
       "</style>\n",
       "<table border=\"1\" class=\"dataframe\">\n",
       "  <thead>\n",
       "    <tr style=\"text-align: right;\">\n",
       "      <th></th>\n",
       "      <th>address</th>\n",
       "      <th>longitude</th>\n",
       "      <th>lat</th>\n",
       "      <th>locality</th>\n",
       "      <th>store_code</th>\n",
       "      <th>staff_numbers</th>\n",
       "      <th>opening_date</th>\n",
       "      <th>store_type</th>\n",
       "      <th>latitude</th>\n",
       "      <th>country_code</th>\n",
       "      <th>continent</th>\n",
       "    </tr>\n",
       "    <tr>\n",
       "      <th>index</th>\n",
       "      <th></th>\n",
       "      <th></th>\n",
       "      <th></th>\n",
       "      <th></th>\n",
       "      <th></th>\n",
       "      <th></th>\n",
       "      <th></th>\n",
       "      <th></th>\n",
       "      <th></th>\n",
       "      <th></th>\n",
       "      <th></th>\n",
       "    </tr>\n",
       "  </thead>\n",
       "  <tbody>\n",
       "    <tr>\n",
       "      <th>0</th>\n",
       "      <td>NaN</td>\n",
       "      <td>NaN</td>\n",
       "      <td>NaN</td>\n",
       "      <td>NaN</td>\n",
       "      <td>WEB-1388012W</td>\n",
       "      <td>325</td>\n",
       "      <td>2010-06-12</td>\n",
       "      <td>Web Portal</td>\n",
       "      <td>NaN</td>\n",
       "      <td>GB</td>\n",
       "      <td>Europe</td>\n",
       "    </tr>\n",
       "    <tr>\n",
       "      <th>1</th>\n",
       "      <td>Flat 72W\\nSally isle\\nEast Deantown\\nE7B 8EB, ...</td>\n",
       "      <td>51.62907</td>\n",
       "      <td>NaN</td>\n",
       "      <td>High Wycombe</td>\n",
       "      <td>HI-9B97EE4E</td>\n",
       "      <td>34</td>\n",
       "      <td>1996-10-25</td>\n",
       "      <td>Local</td>\n",
       "      <td>-0.74934</td>\n",
       "      <td>GB</td>\n",
       "      <td>Europe</td>\n",
       "    </tr>\n",
       "    <tr>\n",
       "      <th>2</th>\n",
       "      <td>Heckerstraße 4/5\\n50491 Säckingen, Landshut</td>\n",
       "      <td>48.52961</td>\n",
       "      <td>NaN</td>\n",
       "      <td>Landshut</td>\n",
       "      <td>LA-0772C7B9</td>\n",
       "      <td>92</td>\n",
       "      <td>2013-04-12</td>\n",
       "      <td>Super Store</td>\n",
       "      <td>12.16179</td>\n",
       "      <td>DE</td>\n",
       "      <td>Europe</td>\n",
       "    </tr>\n",
       "    <tr>\n",
       "      <th>3</th>\n",
       "      <td>5 Harrison tunnel\\nSouth Lydia\\nWC9 2BE, Westbury</td>\n",
       "      <td>51.26</td>\n",
       "      <td>NaN</td>\n",
       "      <td>Westbury</td>\n",
       "      <td>WE-1DE82CEE</td>\n",
       "      <td>69</td>\n",
       "      <td>2014-01-02</td>\n",
       "      <td>Super Store</td>\n",
       "      <td>-2.1875</td>\n",
       "      <td>GB</td>\n",
       "      <td>Europe</td>\n",
       "    </tr>\n",
       "    <tr>\n",
       "      <th>4</th>\n",
       "      <td>Studio 6\\nStephen landing\\nSouth Simon\\nB77 2W...</td>\n",
       "      <td>53.0233</td>\n",
       "      <td>NaN</td>\n",
       "      <td>Belper</td>\n",
       "      <td>BE-18074576</td>\n",
       "      <td>35</td>\n",
       "      <td>2019-09-09</td>\n",
       "      <td>Local</td>\n",
       "      <td>-1.48119</td>\n",
       "      <td>GB</td>\n",
       "      <td>Europe</td>\n",
       "    </tr>\n",
       "  </tbody>\n",
       "</table>\n",
       "</div>"
      ],
      "text/plain": [
       "                                                 address longitude  lat  \\\n",
       "index                                                                     \n",
       "0                                                    NaN       NaN  NaN   \n",
       "1      Flat 72W\\nSally isle\\nEast Deantown\\nE7B 8EB, ...  51.62907  NaN   \n",
       "2            Heckerstraße 4/5\\n50491 Säckingen, Landshut  48.52961  NaN   \n",
       "3      5 Harrison tunnel\\nSouth Lydia\\nWC9 2BE, Westbury     51.26  NaN   \n",
       "4      Studio 6\\nStephen landing\\nSouth Simon\\nB77 2W...   53.0233  NaN   \n",
       "\n",
       "           locality    store_code staff_numbers opening_date   store_type  \\\n",
       "index                                                                       \n",
       "0               NaN  WEB-1388012W           325   2010-06-12   Web Portal   \n",
       "1      High Wycombe   HI-9B97EE4E            34   1996-10-25        Local   \n",
       "2          Landshut   LA-0772C7B9            92   2013-04-12  Super Store   \n",
       "3          Westbury   WE-1DE82CEE            69   2014-01-02  Super Store   \n",
       "4            Belper   BE-18074576            35   2019-09-09        Local   \n",
       "\n",
       "       latitude country_code continent  \n",
       "index                                   \n",
       "0           NaN           GB    Europe  \n",
       "1      -0.74934           GB    Europe  \n",
       "2      12.16179           DE    Europe  \n",
       "3       -2.1875           GB    Europe  \n",
       "4      -1.48119           GB    Europe  "
      ]
     },
     "execution_count": 5,
     "metadata": {},
     "output_type": "execute_result"
    }
   ],
   "source": [
    "sorted_store_codes= sorted(clean_stores_df['store_code'].unique())\n",
    "print(sorted_store_codes)\n",
    "clean_stores_df.head()"
   ]
  },
  {
   "cell_type": "code",
   "execution_count": 6,
   "metadata": {},
   "outputs": [
    {
     "data": {
      "text/plain": [
       "array(['WEB-1388012W', 'HI-9B97EE4E', 'LA-0772C7B9', 'WE-1DE82CEE',\n",
       "       'BE-18074576', 'GA-CAD01AC2', 'RU-C603E990', 'ST-229D997E',\n",
       "       'KA-FA7ED3B8', 'HA-974352FE', 'RU-9F1136B4', 'SI-ECD52CD9',\n",
       "       'DE-585399CF', 'CR-792AA8BB', 'HA-39A446E2', 'LA-9B0D9277',\n",
       "       'NE-1D8B1D0C', 'LY-4C3D5D6C', 'CH-6A561423', 'BA-898BDED3',\n",
       "       'EA-77ECA680', 'PO-38790FAE', 'BU-251A0E5A', 'EH-91356030',\n",
       "       'AB-917B715E', 'SU-0B4C9A5F', 'IN-157E1191', 'GA-DA8EEA4A',\n",
       "       'LA-2B59A825', 'WE-31C8B335', 'LA-F1042C48', 'EA-24B31935',\n",
       "       'EA-7965E06D', 'PE-040B15C3', 'EH-DB8676C1', 'AL-91D3A03C',\n",
       "       'HE-E39F4BC6', 'PO-47A01287', 'LA-D78C5F3F', 'ME-31958763',\n",
       "       'AR-5E72668B', 'CO-CB3D8C89', 'CL-5C7C3198', 'BO-17E7B6CE',\n",
       "       'CH-619E036C', 'BR-BC499EDD', 'NE-E50207AD', 'BE-8C0CF738',\n",
       "       'NE-374D3983', 'SU-95D20AE9', 'ME-FB62E459', 'KA-653E783F',\n",
       "       'MA-F0E23355', 'OS-70B2CD28', 'KI-A53AF10A', 'LE-63F3D33B',\n",
       "       'VE-93DA8430', 'HI-BAD4DD1C', 'RU-1994A94D', 'LE-84C48B9F',\n",
       "       'SC-4928418D', 'EP-105C3FB5', 'CH-7771B336', 'LO-AB6B6DF8',\n",
       "       'BU-44F16401', 'RU-9DF20437', 'EH-DB65F258', 'SO-6D328417',\n",
       "       'PO-EB96293A', 'WA-34998EB8', 'EX-2C210EBF', 'CH-164A23FB',\n",
       "       'GA-BA05E5A8', 'CH-A44B48E6', 'TH-D62B06B7', 'LA-6AAC1779',\n",
       "       'MO-E8CFF8FE', 'LO-D54E72B5', 'EA-BE6D0CF8', 'BE-F4596696',\n",
       "       'WE-5B0343D9', 'SC-8724E112', 'SE-F428A035', 'SU-40E3321A',\n",
       "       'EX-9ED6711E', 'BU-550D8325', 'LA-9F489A77', 'RA-583F0CF9',\n",
       "       'NE-01250B4B', 'CH-7C155EA7', 'ST-4D2E1D55', 'AR-2D9D5CD3',\n",
       "       'MI-20EE1BFA', 'ST-119B11EA', 'BU-89E4DEC5', 'VE-B81F9500',\n",
       "       'WE-DC3933D4', 'CL-0FB1065C', 'PF-D90B564A', 'BE-028A2748',\n",
       "       'SO-6D546AD2', 'HI-BED70096', 'WA-FF3389AF', 'CH-7E92F288',\n",
       "       'FR-C04291C3', 'ST-B754F535', 'AR-E8FDEB2B', 'LY-FC3B1157',\n",
       "       'BE-09F94471', 'GA-400CC35C', 'WI-56B02C82', 'HI-F2784D72',\n",
       "       'ME-D9ECD7DF', 'LE-14B7245B', 'RU-AE12736B', 'LA-DE474D42',\n",
       "       'KA-9D87BC15', 'CH-DCCDE05E', 'CH-FBB32B94', 'ST-10F19C97',\n",
       "       'NE-C83B8B22', 'SE-8DF6557B', 'SU-346D5CF2', 'BU-784362E0',\n",
       "       'AR-0C5116E4', 'OB-7A4A9012', 'RA-2A22B217', 'WE-605028E4',\n",
       "       'PF-1D7B0646', 'LA-77BE2ADA', 'ZE-BBF02AEA', 'VI-BCBBC21A',\n",
       "       'WI-37616D0E', 'RH-F3E200B7', 'BU-19BB50F6', 'MA-316BDC6E',\n",
       "       'CL-C183BE4B', 'WA-F4396DF8', 'MA-0D207813', 'PO-99029708',\n",
       "       'GA-190B3F6D', 'BU-5B54171E', 'ME-9940FF73', 'CL-DA5365DF',\n",
       "       'SU-5F78B30A', 'LY-89B9F675', 'HE-2908B53E', 'AR-D3FDDD1D',\n",
       "       'SI-66F97423', 'PF-BADFAEDC', 'NE-EE2A190D', 'SE-596EAA50',\n",
       "       'RA-C25EE56A', 'EH-BB9AECF5', 'PF-F95902BC', 'CR-6B885B5E',\n",
       "       'HA-1BAE9B71', 'ME-B363FDAA', 'TR-4E1AF636', 'VI-43751A71',\n",
       "       'DA-D9DC550B', 'LA-347073D1', 'VI-9A93E3E2', 'CH-6D105C69',\n",
       "       'ST-06E21C4A', 'FR-0FA7D921', 'CL-361E75EC', 'WA-905645E6',\n",
       "       'LY-73842BE8', 'HA-B6953307', 'BE-F9462A80', 'ST-3C93FBF2',\n",
       "       'MA-20E6EB37', 'HI-F27C7A84', 'TH-D94B2E76', 'LO-3DD01CA8',\n",
       "       'BA-8BA66AA0', 'DA-ACC520AE', 'BA-3A37248A', 'IN-8A98027C',\n",
       "       'CH-42F9D8D8', 'AR-F938FB8E', 'ZE-EA9C82AA', 'EX-41AC3888',\n",
       "       'CH-E1344D81', 'GR-18E26E0C', 'VI-B13ACF87', 'EH-945D8F25',\n",
       "       'BU-3FC2A064', 'ME-C1AF27C3', 'PE-52B1E131', 'RU-BFF916C5',\n",
       "       'LA-BC0455E1', 'BE-9A378A7F', 'LA-C1E143DE', 'NI-D757F308',\n",
       "       'HA-859769AF', 'WA-0E6E657C', 'ST-1DAA85E6', 'WI-1BEEB9CA',\n",
       "       'HA-41E65DD9', 'JE-3AF1D134', 'KI-967D1E81', 'BA-B0933185',\n",
       "       'FA-6A7ABBAD', 'BU-3020DF6C', 'FR-91D11D69', 'ST-32641EC1',\n",
       "       'SC-ADA59883', 'GA-2252ED9A', 'WE-298C66F0', 'PO-3A1A12CD',\n",
       "       'CO-EAEDFFF3', 'GA-846D92B4', 'WE-54DE559C', 'PE-60C328DB',\n",
       "       'BL-8387506C', 'OB-B57D2016', 'RE-4D07B5F2', 'HO-85D2BA5B',\n",
       "       'VE-EE7A1F48', 'RH-AB6C3782', 'AB-316DE4BA', 'LA-F0652295',\n",
       "       'EA-6B5D31D8', 'BE-2DE7E6FD', 'HO-978C59DC', 'KI-AF3A421C',\n",
       "       'CH-C9AB9518', 'RU-514020AC', 'WI-5CDC1053', 'MI-D57825AA',\n",
       "       'WI-293A03C1', 'GR-84BD26D4', 'TH-B6A0AB51', 'SU-203C8474',\n",
       "       'EX-A3F2DB7C', 'AL-9E1A5529', 'CL-DA786EF6', 'AS-D26C759B',\n",
       "       'FA-0A1B14FB', 'HI-FD1137FA', 'CL-7BF16887', 'PE-360EA944',\n",
       "       'SI-C489938D', 'LA-7A9AA65C', 'AB-4ABD6D51', 'RA-5F41ED85',\n",
       "       'BE-7C142381', 'BR-FB62A5BA', 'OS-EE0CC48A', 'VI-682A89FF',\n",
       "       'GA-5957F561', 'PO-4AF8FC4D', 'SE-68A67454', 'RA-412FE889',\n",
       "       'KI-81D6FEBD', 'WE-41EFA2D6', 'LE-1438EF01', 'SI-3E5F4AD9',\n",
       "       'PF-F54C3265', 'PO-D4D326B4', 'SE-09EAF854', 'BE-DAD46DCD',\n",
       "       'BE-BC3E4F9A', 'WE-55D0E7FF', 'ST-8D1A43F1', 'VE-1050754E',\n",
       "       'CH-86DFF57D', 'GR-6D292223', 'HI-D59BBEEC', 'CH-8A74708A',\n",
       "       'GR-30543E4C', 'GR-664E0CB3', 'KA-249967D9', 'EX-B1AACC7D',\n",
       "       'BL-04FD6EF3', 'SU-B415327A', 'WA-0A35C594', 'DE-504A9BFE',\n",
       "       'AR-CB0D95D8', 'RE-FAF57EF7', 'AB-337AEBA7', 'PE-8BF5FE22',\n",
       "       'BU-0FB4CF87', 'ME-6529390A', 'NE-2B35DCBD', 'BU-90D457E0',\n",
       "       'LA-55069B69', 'CH-DEF208AA', 'BR-CACF7508', 'GR-911A7DFC',\n",
       "       'BL-9A86B74D', 'BA-99F54BD0', 'TR-658557DD', 'BL-D6CF153F',\n",
       "       'AR-2284FD32', 'GR-63F021A1', 'EA-EB4F2E1B', 'GI-718674C0',\n",
       "       'CH-7638016B', 'GA-D570038A', 'HO-16A376B0', 'AB-30E0C17F',\n",
       "       'NI-AB0FECD7', 'SE-C44E6951', 'CO-308FF73B', 'EX-B4EE25D8',\n",
       "       'SE-E21DDC72', 'TH-142AE777', 'CA-70469742', 'NE-6046DE65',\n",
       "       'LU-439557A9', 'SU-163D2755', 'VI-8EBC5471', 'BU-834779E4',\n",
       "       'ST-6590521C', 'HO-CE40B554', 'LO-8E1CA9E3', 'SU-ABF4F9A1',\n",
       "       'CO-9A576872', 'AL-EE8984F0', 'AL-FB5FAE9B', 'EA-EC2DAADE',\n",
       "       'ST-D14ED89D', 'LO-C4AB23C1', 'OB-4B85CD4E', 'BU-79F72A64',\n",
       "       'EP-E66BE479', 'WA-58021322', 'KO-7E39C57F', 'HI-AED3C6CD',\n",
       "       'AB-D665986A', 'BR-B7C294A7', 'LY-120579E6', 'GR-250FBD0C',\n",
       "       'SO-B5B9CB3B', 'LA-6D1FE061', 'BR-09D8DE69', 'WE-C5C34475',\n",
       "       'IN-827175EE', 'VE-38B76FFE', 'OS-4BF93680', 'WE-69BFEA46',\n",
       "       'HA-FC4E6AFF', 'EX-A01E0020', 'HU-57B095A2', 'CH-01DEFD68',\n",
       "       'RU-9D16C525', 'SC-FFDD5A57', 'KI-DD9663C2', 'EX-B3F5CFB1',\n",
       "       'IR-C8DAAB31', 'WE-A6C131B0', 'OB-FDC2CF69', 'BA-25629F8E',\n",
       "       'HI-7B43DCA9', 'HE-84E62AB9', 'RU-DA6DCDA7', 'IN-E47115F0',\n",
       "       'BA-91C512D2', 'JA-49A2D7F5', 'IN-C4060B7D', 'CH-6ADEBD99',\n",
       "       'BU-B5B6F452', 'SE-531CB6EE', 'SU-EFC31DF9', 'ST-76D54DCB',\n",
       "       'HE-A49D28DF', 'LA-0E85631B', 'CH-99475026', 'PF-4FB7B30C',\n",
       "       'AL-34ABF27F', 'LO-74DBE049', 'LO-EC0C9189', 'BE-C5C7E600',\n",
       "       'PE-F9CF2B74', 'AS-373D10B2', 'RH-450F1A1B', 'GR-61A03D84',\n",
       "       'AB-D04AA29C', 'WE-0E145AF9', 'BR-0DCD7EE0', 'TH-B8F42840',\n",
       "       'GR-16C93F4D', 'BL-190ABD7D', 'RU-798BB83A', 'HA-10EEDC1D',\n",
       "       'AB-FCFAB1A9', 'HE-8818F573', 'IN-CC1993CF', 'LY-D37CAF45',\n",
       "       'RE-75445D60', 'CO-3971C69C', 'NE-D1A20330', 'LA-A12C3D8F',\n",
       "       'BA-C0C7FDBE', 'LO-F33AC948', 'PO-E636D18D', 'LE-1E8CCAFA',\n",
       "       'SC-4AE031F4', 'LO-ED733BA2', 'FR-A86E698A', 'KI-107167CD',\n",
       "       'BE-7D0EF647', 'PE-086FA5EE', 'PE-78E2B585', 'AR-EE57502B',\n",
       "       'EX-FA379F57', 'GR-9049A708', 'WA-ED4B495E', 'TR-8CD56339',\n",
       "       'CO-D819CC5E', 'EX-82831D93', 'WE-FF0F6BA4', 'EP-6E0918AF',\n",
       "       'WE-B278D336', 'BU-FB96B095', 'KO-975B107F', 'EX-2E8DF595',\n",
       "       'HA-CCBCBF87', 'AR-ADA61B10', 'RU-F0666E4B', 'WA-A34BF06C',\n",
       "       'KI-137ED849', 'BE-6F48991F', 'CH-C98AC168', 'DE-12392F66',\n",
       "       'BA-41B2EB4B', 'WI-1EA140B1', 'CH-01D85C8D', 'VI-68DB8362',\n",
       "       'RH-80D609C9', 'AB-D5ABF437', 'BE-B069E157', 'WA-A41DA979',\n",
       "       'CO-473A9FBB', 'KI-78096E8C', 'HI-EEA7AE62', 'BR-662EC74C',\n",
       "       'BA-B4AED588'], dtype=object)"
      ]
     },
     "execution_count": 6,
     "metadata": {},
     "output_type": "execute_result"
    }
   ],
   "source": [
    "clean_stores_df['store_code'].unique()"
   ]
  },
  {
   "cell_type": "code",
   "execution_count": 7,
   "metadata": {},
   "outputs": [
    {
     "data": {
      "text/plain": [
       "array(['325', '34', '92', '69', '35', '36', '31', '20', '32', '25', '138',\n",
       "       '38', '39', '33', '109', '8', '119', '28', '29', '27', '78', '96',\n",
       "       '135', '30', '90', '120', '50', '75', '118', '37', '67', '26',\n",
       "       '40', '6', '22', '24', '83', '82', '117', '7', '21', '132', '131',\n",
       "       '130', '70', '23', '51', '127', '4', '110', '5', '81', '85', '41',\n",
       "       '57', '102', '103', '68', '99', '66', '124', '74', '87', '122',\n",
       "       '112', '100', '71', '128', '76', '77', '137', '111', '58', '56',\n",
       "       '72', '80', '101', '93', '73', '129', '60', '114', '52', '63',\n",
       "       '113', '94', '134', '84', '59', '108', '97', '89', '53', '106',\n",
       "       '48', '133', '107', '62', '86', '139', '98', '61'], dtype=object)"
      ]
     },
     "execution_count": 7,
     "metadata": {},
     "output_type": "execute_result"
    }
   ],
   "source": [
    "clean_stores_df['staff_numbers'].unique()"
   ]
  },
  {
   "cell_type": "markdown",
   "metadata": {},
   "source": [
    "Upload the database to the engine."
   ]
  },
  {
   "cell_type": "code",
   "execution_count": 8,
   "metadata": {},
   "outputs": [
    {
     "name": "stdout",
     "output_type": "stream",
     "text": [
      "Called 'init_db_engine' method for database engine initialisation.\n",
      "Read credentials from rds_upload_db_creds.yaml\n",
      "Database credentials now stored in 'credentials' variable.\n",
      "Database engine initialised successfully with the credentials in rds_upload_db_creds.yaml.\n",
      "Data uploaded to the 'dim_store_details' table successfully.\n"
     ]
    }
   ],
   "source": [
    "# Now let's initialise the engine that we will upload our DataFrame to\n",
    "\n",
    "# Create an instance of the DatabaseConnector class\n",
    "database = DatabaseConnector()\n",
    "# We will set the 'yaml_file_path' to ensure the connection is made to the upload database engine\n",
    "upload_engine = database.init_db_engine(yaml_file_path='rds_upload_db_creds.yaml')\n",
    "\n",
    "# Upload 'cleaned_df' to our initialised engine\n",
    "database.upload_to_db(clean_stores_df, table_name='dim_store_details')"
   ]
  }
 ],
 "metadata": {
  "kernelspec": {
   "display_name": "base",
   "language": "python",
   "name": "python3"
  },
  "language_info": {
   "codemirror_mode": {
    "name": "ipython",
    "version": 3
   },
   "file_extension": ".py",
   "mimetype": "text/x-python",
   "name": "python",
   "nbconvert_exporter": "python",
   "pygments_lexer": "ipython3",
   "version": "3.11.6"
  }
 },
 "nbformat": 4,
 "nbformat_minor": 2
}
