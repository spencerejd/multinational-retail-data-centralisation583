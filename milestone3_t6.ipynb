{
 "cells": [
  {
   "cell_type": "markdown",
   "metadata": {},
   "source": [
    "## Milestone 3 Task 6: dim_date_times"
   ]
  },
  {
   "cell_type": "code",
   "execution_count": 2,
   "metadata": {},
   "outputs": [],
   "source": [
    "import yaml\n",
    "import psycopg2"
   ]
  },
  {
   "cell_type": "code",
   "execution_count": 14,
   "metadata": {},
   "outputs": [
    {
     "name": "stdout",
     "output_type": "stream",
     "text": [
      "Connected to sales_data database\n",
      "Task 6: Operations on dim_date_times completed successfully.\n",
      "Connection closed\n"
     ]
    }
   ],
   "source": [
    "# Load database credentials from YAML file\n",
    "with open('rds_upload_db_creds.yaml', 'r') as file:\n",
    "    creds = yaml.safe_load(file)\n",
    "\n",
    "try:\n",
    "    # Establish a database connection\n",
    "    connection = psycopg2.connect(\n",
    "        host=creds['RDS_HOST'],\n",
    "        user=creds['RDS_USER'],\n",
    "        password=creds['RDS_PASSWORD'],\n",
    "        database=creds['RDS_DATABASE']\n",
    "    )\n",
    "    # Check if the connection was successful\n",
    "    if connection:\n",
    "        print (f\"Connected to {creds['RDS_DATABASE']} database\")\n",
    "\n",
    "    # Task 6: Update the dim_date_times table\n",
    "    with connection.cursor() as cursor:\n",
    "        cursor.execute(\"\"\"\n",
    "            ALTER TABLE dim_date_times\n",
    "            ALTER COLUMN month TYPE VARCHAR(2),\n",
    "            ALTER COLUMN year TYPE VARCHAR(4),\n",
    "            ALTER COLUMN day TYPE VARCHAR(2),\n",
    "            ALTER COLUMN time_period TYPE VARCHAR(10),\n",
    "            ALTER COLUMN date_uuid TYPE UUID;\n",
    "\n",
    "                       \"\"\")\n",
    "        \n",
    "        # Commit the transaction\n",
    "        connection.commit()\n",
    "        print(\"Task 6: Operations on dim_date_times completed successfully.\")\n",
    "\n",
    "\n",
    "except Exception as e:\n",
    "    print(f\"Error: {e}\")\n",
    "\n",
    "finally:\n",
    "    # Close the connection\n",
    "    if connection:\n",
    "        connection.close()\n",
    "        \n",
    "        print(\"Connection closed\")"
   ]
  },
  {
   "cell_type": "code",
   "execution_count": 11,
   "metadata": {},
   "outputs": [
    {
     "name": "stdout",
     "output_type": "stream",
     "text": [
      "['Evening' 'Morning' 'Midday' 'Late_Hours' 'DXBU6GX1VC' 'OEOXBP8X6D' nan\n",
      " '1Z18F4RM05' 'GT3JKF575H' 'CM5MTJKXMH' '5OQGE7K2AV' '1JCRGU3GIE'\n",
      " 'SQX52VSNMM' 'ALOGCWS9Y3' '7DNU2UWFP7' 'EOHYT5T70F' '5MUU1NKRED'\n",
      " '7RR8SRXQAW' 'SSF9ANE440' '1PZDMCME1C' 'KQVJ34AINL' 'QA65EOIBX4'\n",
      " 'YRYN6Y8SPJ' 'JMW951JPZC' 'DZC37NLW4F' 'SYID3PBQLP' 'IXNB2XXEKB'\n",
      " 'MZIS9E7IXD']\n"
     ]
    }
   ],
   "source": [
    "import pandas as pd\n",
    "date_details_df = pd.read_csv('date_details_data.csv')\n",
    "print(date_details_df['time_period'].unique())"
   ]
  }
 ],
 "metadata": {
  "kernelspec": {
   "display_name": "base",
   "language": "python",
   "name": "python3"
  },
  "language_info": {
   "codemirror_mode": {
    "name": "ipython",
    "version": 3
   },
   "file_extension": ".py",
   "mimetype": "text/x-python",
   "name": "python",
   "nbconvert_exporter": "python",
   "pygments_lexer": "ipython3",
   "version": "3.11.6"
  }
 },
 "nbformat": 4,
 "nbformat_minor": 2
}
