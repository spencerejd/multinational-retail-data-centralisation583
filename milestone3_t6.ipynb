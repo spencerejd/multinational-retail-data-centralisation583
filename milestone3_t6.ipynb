{
 "cells": [
  {
   "cell_type": "markdown",
   "metadata": {},
   "source": [
    "## Milestone 3 Task 6: dim_date_times"
   ]
  },
  {
   "cell_type": "code",
   "execution_count": 2,
   "metadata": {},
   "outputs": [],
   "source": [
    "import yaml\n",
    "import psycopg2"
   ]
  },
  {
   "cell_type": "code",
   "execution_count": 19,
   "metadata": {},
   "outputs": [
    {
     "name": "stdout",
     "output_type": "stream",
     "text": [
      "Connected to sales_data database\n",
      "Task 6: Operations on dim_date_times completed successfully.\n",
      "Connection closed\n"
     ]
    }
   ],
   "source": [
    "# Load database credentials from YAML file\n",
    "with open('rds_upload_db_creds.yaml', 'r') as file:\n",
    "    creds = yaml.safe_load(file)\n",
    "\n",
    "try:\n",
    "    # Establish a database connection\n",
    "    connection = psycopg2.connect(\n",
    "        host=creds['RDS_HOST'],\n",
    "        user=creds['RDS_USER'],\n",
    "        password=creds['RDS_PASSWORD'],\n",
    "        database=creds['RDS_DATABASE']\n",
    "    )\n",
    "    # Check if the connection was successful\n",
    "    if connection:\n",
    "        print (f\"Connected to {creds['RDS_DATABASE']} database\")\n",
    "\n",
    "    # Task 6: Update the dim_date_times table\n",
    "    with connection.cursor() as cursor:\n",
    "        cursor.execute(\"\"\"\n",
    "            ALTER TABLE dim_date_times\n",
    "            ALTER COLUMN month TYPE VARCHAR(2),\n",
    "            ALTER COLUMN year TYPE VARCHAR(4),\n",
    "            ALTER COLUMN day TYPE VARCHAR(2),\n",
    "            ALTER COLUMN time_period TYPE VARCHAR(10),\n",
    "            ALTER COLUMN date_uuid TYPE UUID USING date_uuid::UUID;\n",
    "\n",
    "            \"\"\")\n",
    "        \n",
    "        # Commit the transaction\n",
    "        connection.commit()\n",
    "        print(\"Task 6: Operations on dim_date_times completed successfully.\")\n",
    "\n",
    "\n",
    "except Exception as e:\n",
    "    print(f\"Error: {e}\")\n",
    "\n",
    "finally:\n",
    "    # Close the connection\n",
    "    if connection:\n",
    "        connection.close()\n",
    "        \n",
    "        print(\"Connection closed\")"
   ]
  }
 ],
 "metadata": {
  "kernelspec": {
   "display_name": "base",
   "language": "python",
   "name": "python3"
  },
  "language_info": {
   "codemirror_mode": {
    "name": "ipython",
    "version": 3
   },
   "file_extension": ".py",
   "mimetype": "text/x-python",
   "name": "python",
   "nbconvert_exporter": "python",
   "pygments_lexer": "ipython3",
   "version": "3.11.6"
  }
 },
 "nbformat": 4,
 "nbformat_minor": 2
}
