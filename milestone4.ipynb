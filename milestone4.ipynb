{
 "cells": [
  {
   "cell_type": "markdown",
   "metadata": {},
   "source": [
    "## Milestone 4: Querying the data"
   ]
  },
  {
   "cell_type": "markdown",
   "metadata": {},
   "source": [
    "#### Task 1: How many stores does the business have and in which countries?\n",
    "\n",
    "The Operations team would like to know which countries we currently operate in and which country now has the most stores. Perform a query on the database to get the information, it should return the following information:\n"
   ]
  },
  {
   "cell_type": "code",
   "execution_count": null,
   "metadata": {
    "vscode": {
     "languageId": "plaintext"
    }
   },
   "outputs": [],
   "source": [
    "+----------+-----------------+\n",
    "| country  | total_no_stores |\n",
    "+----------+-----------------+\n",
    "| GB       |             265 |\n",
    "| DE       |             141 |\n",
    "| US       |              34 |\n",
    "+----------+-----------------+"
   ]
  },
  {
   "cell_type": "code",
   "execution_count": null,
   "metadata": {
    "vscode": {
     "languageId": "plaintext"
    }
   },
   "outputs": [],
   "source": [
    "-- Subsequent SQL Query to extract this data\n",
    "\n",
    "SELECT DISTINCT(country_code) as country,\n",
    "\tCOUNT(country_code) as total_no_stores\n",
    "FROM dim_store_details\n",
    "GROUP BY country_code\n",
    "ORDER BY total_no_stores DESC;"
   ]
  },
  {
   "cell_type": "markdown",
   "metadata": {},
   "source": [
    "#### Task 2: Which locations currently have the most stores?\n",
    "\n",
    "The business stakeholders would like to know which locations currently have the most stores.\n",
    "\n",
    "They would like to close some stores before opening more in other locations.\n",
    "\n",
    "Find out which locations have the most stores currently. The query should return the following:"
   ]
  },
  {
   "cell_type": "code",
   "execution_count": null,
   "metadata": {
    "vscode": {
     "languageId": "plaintext"
    }
   },
   "outputs": [],
   "source": [
    "+-------------------+-----------------+\n",
    "|     locality      | total_no_stores |\n",
    "+-------------------+-----------------+\n",
    "| Chapletown        |              14 |\n",
    "| Belper            |              13 |\n",
    "| Bushley           |              12 |\n",
    "| Exeter            |              11 |\n",
    "| High Wycombe      |              10 |\n",
    "| Arbroath          |              10 |\n",
    "| Rutherglen        |              10 |\n",
    "+-------------------+-----------------+"
   ]
  },
  {
   "cell_type": "code",
   "execution_count": null,
   "metadata": {
    "vscode": {
     "languageId": "plaintext"
    }
   },
   "outputs": [],
   "source": [
    "SELECT DISTINCT locality,\n",
    "\t\tCOUNT(store_code) as total_no_stores\n",
    "FROM dim_store_details\n",
    "GROUP BY locality\n",
    "ORDER BY COUNT(store_code) DESC\n",
    "LIMIT 7;"
   ]
  },
  {
   "cell_type": "markdown",
   "metadata": {},
   "source": [
    "#### Task 3: Which months produced the largest amount of sales?\n",
    "\n",
    "Query the database to find out which months have produced the most sales. The query should return the following information:"
   ]
  },
  {
   "cell_type": "code",
   "execution_count": null,
   "metadata": {
    "vscode": {
     "languageId": "plaintext"
    }
   },
   "outputs": [],
   "source": [
    "+-------------+-------+\n",
    "| total_sales | month |\n",
    "+-------------+-------+\n",
    "|   673295.68 |     8 |\n",
    "|   668041.45 |     1 |\n",
    "|   657335.84 |    10 |\n",
    "|   650321.43 |     5 |\n",
    "|   645741.70 |     7 |\n",
    "|   645463.00 |     3 |\n",
    "+-------------+-------+"
   ]
  },
  {
   "cell_type": "markdown",
   "metadata": {},
   "source": [
    "It appears you need to write a joining statement to join three tables to get date, product price & product quantity;\n",
    "- dim_products (product_code & product_price columns)\n",
    "- orders_table (product_code, product_quantity & date_uuid columns)\n",
    "- dim_date_times (month column)"
   ]
  },
  {
   "cell_type": "code",
   "execution_count": null,
   "metadata": {
    "vscode": {
     "languageId": "plaintext"
    }
   },
   "outputs": [],
   "source": []
  },
  {
   "cell_type": "markdown",
   "metadata": {},
   "source": [
    "#### Task 4: How many sales are coming from online?\n",
    "\n",
    "The company is looking to increase its online sales.\n",
    "They want to know how many sales are happening online vs offline.\n",
    "Calculate how many products were sold and the amount of sales made for online and offline purchases.\n",
    "You should get the following information:"
   ]
  },
  {
   "cell_type": "code",
   "execution_count": null,
   "metadata": {
    "vscode": {
     "languageId": "plaintext"
    }
   },
   "outputs": [],
   "source": [
    "+------------------+-------------------------+----------+\n",
    "| numbers_of_sales | product_quantity_count  | location |\n",
    "+------------------+-------------------------+----------+\n",
    "|            26957 |                  107739 | Web      |\n",
    "|            93166 |                  374047 | Offline  |\n",
    "+------------------+-------------------------+----------+"
   ]
  },
  {
   "cell_type": "markdown",
   "metadata": {},
   "source": [
    "You'll need to extract data from the following;\n",
    "- dim_store_details (store_type & store_code columns)\n",
    "    - you'll need store_type of Web and everything else grouped as one\n",
    "- orders_table (product_quantity & card_number columns)\n",
    "- a way to tally each individual payment completed linked to the above details\n",
    "    - could that be with dim_card_details (and just card_number column?)"
   ]
  }
 ],
 "metadata": {
  "language_info": {
   "name": "python"
  }
 },
 "nbformat": 4,
 "nbformat_minor": 2
}
