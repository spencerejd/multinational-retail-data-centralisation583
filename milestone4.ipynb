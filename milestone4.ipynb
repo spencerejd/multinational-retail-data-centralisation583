{
 "cells": [
  {
   "cell_type": "markdown",
   "metadata": {},
   "source": [
    "## Milestone 4: Querying the data"
   ]
  },
  {
   "cell_type": "markdown",
   "metadata": {},
   "source": [
    "#### Task 1: How many stores does the business have and in which countries?\n",
    "\n",
    "The Operations team would like to know which countries we currently operate in and which country now has the most stores. Perform a query on the database to get the information, it should return the following information:\n"
   ]
  },
  {
   "cell_type": "code",
   "execution_count": null,
   "metadata": {
    "vscode": {
     "languageId": "plaintext"
    }
   },
   "outputs": [],
   "source": [
    "+----------+-----------------+\n",
    "| country  | total_no_stores |\n",
    "+----------+-----------------+\n",
    "| GB       |             265 |\n",
    "| DE       |             141 |\n",
    "| US       |              34 |\n",
    "+----------+-----------------+"
   ]
  },
  {
   "cell_type": "code",
   "execution_count": null,
   "metadata": {
    "vscode": {
     "languageId": "plaintext"
    }
   },
   "outputs": [],
   "source": [
    "-- Subsequent SQL Query to extract this data\n",
    "\n",
    "SELECT DISTINCT(country_code) as country,\n",
    "\tCOUNT(country_code) as total_no_stores\n",
    "FROM dim_store_details\n",
    "GROUP BY country_code\n",
    "ORDER BY total_no_stores DESC;"
   ]
  },
  {
   "cell_type": "markdown",
   "metadata": {},
   "source": [
    "#### Task 2: Which locations currently have the most stores?\n",
    "\n",
    "The business stakeholders would like to know which locations currently have the most stores.\n",
    "\n",
    "They would like to close some stores before opening more in other locations.\n",
    "\n",
    "Find out which locations have the most stores currently. The query should return the following:"
   ]
  },
  {
   "cell_type": "code",
   "execution_count": null,
   "metadata": {
    "vscode": {
     "languageId": "plaintext"
    }
   },
   "outputs": [],
   "source": [
    "+-------------------+-----------------+\n",
    "|     locality      | total_no_stores |\n",
    "+-------------------+-----------------+\n",
    "| Chapletown        |              14 |\n",
    "| Belper            |              13 |\n",
    "| Bushley           |              12 |\n",
    "| Exeter            |              11 |\n",
    "| High Wycombe      |              10 |\n",
    "| Arbroath          |              10 |\n",
    "| Rutherglen        |              10 |\n",
    "+-------------------+-----------------+"
   ]
  },
  {
   "cell_type": "code",
   "execution_count": null,
   "metadata": {
    "vscode": {
     "languageId": "plaintext"
    }
   },
   "outputs": [],
   "source": [
    "SELECT DISTINCT locality,\n",
    "\t\tCOUNT(store_code) as total_no_stores\n",
    "FROM dim_store_details\n",
    "GROUP BY locality\n",
    "ORDER BY COUNT(store_code) DESC\n",
    "LIMIT 7;"
   ]
  },
  {
   "cell_type": "markdown",
   "metadata": {},
   "source": [
    "#### Task 3: Which months produced the largest amount of sales?\n",
    "\n",
    "Query the database to find out which months have produced the most sales. The query should return the following information:"
   ]
  },
  {
   "cell_type": "code",
   "execution_count": null,
   "metadata": {
    "vscode": {
     "languageId": "plaintext"
    }
   },
   "outputs": [],
   "source": [
    "+-------------+-------+\n",
    "| total_sales | month |\n",
    "+-------------+-------+\n",
    "|   673295.68 |     8 |\n",
    "|   668041.45 |     1 |\n",
    "|   657335.84 |    10 |\n",
    "|   650321.43 |     5 |\n",
    "|   645741.70 |     7 |\n",
    "|   645463.00 |     3 |\n",
    "+-------------+-------+"
   ]
  },
  {
   "cell_type": "markdown",
   "metadata": {},
   "source": [
    "It appears you need to write a joining statement to join three tables to get date, product price & product quantity;\n",
    "- dim_products (product_code & product_price columns)\n",
    "- orders_table (product_code, product_quantity & date_uuid columns)\n",
    "- dim_date_times (month & date_uuid columns)"
   ]
  },
  {
   "cell_type": "code",
   "execution_count": null,
   "metadata": {
    "vscode": {
     "languageId": "plaintext"
    }
   },
   "outputs": [],
   "source": [
    "SELECT\n",
    "\tROUND(SUM(orders_table.product_quantity * dim_products.product_price)::numeric,2) AS total_sales,\n",
    "\tdim_date_times.month\n",
    "FROM\n",
    "\torders_table\n",
    "INNER JOIN\n",
    "\tdim_date_times ON dim_date_times.date_uuid = orders_table.date_uuid\n",
    "INNER JOIN\n",
    "\tdim_products ON dim_products.product_code = orders_table.product_code\n",
    "GROUP BY dim_date_times.month\n",
    "ORDER BY SUM(orders_table.product_quantity * dim_products.product_price) DESC\n",
    "LIMIT 6;"
   ]
  },
  {
   "cell_type": "code",
   "execution_count": null,
   "metadata": {
    "vscode": {
     "languageId": "plaintext"
    }
   },
   "outputs": [],
   "source": [
    "-- Working out/draft\n",
    "\n",
    "-- First part\n",
    "\n",
    "SELECT DISTINCT month\n",
    "FROM dim_date_times\n",
    "LIMIT 6;\n",
    "\n",
    "-- orders_table.product_quantity * dim_products.product_price\n",
    "\n",
    "-- Total orders per month\n",
    "\n",
    "SELECT COUNT(orders_table.product_code) AS total_orders,\n",
    "\t\tdim_date_times.month\n",
    "FROM\n",
    "\torders_table\n",
    "INNER JOIN\n",
    "\tdim_date_times ON dim_date_times.date_uuid = orders_table.date_uuid\n",
    "GROUP BY dim_date_times.month\n",
    "ORDER BY COUNT(orders_table.product_code) DESC;\n",
    "\n",
    "-- You need to multiply orders_table.product_quantity by dim_products.product_price\n",
    "\n",
    "SELECT (orders_table.product_quantity * dim_products.product_price) AS total_product_sale,\n",
    "\t\tdim_date_times.month\n",
    "FROM\n",
    "\torders_table\n",
    "INNER JOIN\n",
    "\tdim_date_times ON dim_date_times.date_uuid = orders_table.date_uuid\n",
    "INNER JOIN\n",
    "\tdim_products ON dim_products.product_code = orders_table.product_code\n",
    "GROUP BY dim_date_times.month, orders_table.product_quantity, dim_products.product_price\n",
    "ORDER BY dim_date_times.month DESC;\n",
    "\n"
   ]
  },
  {
   "cell_type": "markdown",
   "metadata": {},
   "source": [
    "#### Task 4: How many sales are coming from online?\n",
    "\n",
    "The company is looking to increase its online sales.\n",
    "They want to know how many sales are happening online vs offline.\n",
    "Calculate how many products were sold and the amount of sales made for online and offline purchases.\n",
    "You should get the following information:"
   ]
  },
  {
   "cell_type": "code",
   "execution_count": null,
   "metadata": {
    "vscode": {
     "languageId": "plaintext"
    }
   },
   "outputs": [],
   "source": [
    "+------------------+-------------------------+----------+\n",
    "| numbers_of_sales | product_quantity_count  | location |\n",
    "+------------------+-------------------------+----------+\n",
    "|            26957 |                  107739 | Web      |\n",
    "|            93166 |                  374047 | Offline  |\n",
    "+------------------+-------------------------+----------+"
   ]
  },
  {
   "cell_type": "markdown",
   "metadata": {},
   "source": [
    "You'll need to extract data from the following;\n",
    "- dim_store_details (store_type & store_code columns)\n",
    "    - you'll need store_type of Web and everything else grouped as one\n",
    "- orders_table (product_quantity & card_number columns)\n",
    "- a way to tally each individual payment completed linked to the above details\n",
    "    - could that be with dim_card_details (and just card_number column?)"
   ]
  },
  {
   "cell_type": "code",
   "execution_count": null,
   "metadata": {
    "vscode": {
     "languageId": "plaintext"
    }
   },
   "outputs": [],
   "source": [
    "orders_table will give you sale (product_code) and quantity (product_quantity)\n",
    "\n",
    "-- Can we find out a way to see number of sales and product quantity per store_type?\n",
    "\n",
    "To set location as Web or Offline, I believe you will need to create a new column\n",
    "for the purpose of this task\n",
    "\n",
    "SELECT\n",
    "\tCOUNT(orders_table.product_code) AS number_of_sales,\n",
    "\tSUM(orders_table.product_quantity) AS product_quantity_count,\n",
    "\tdim_store_details.store_type\n",
    "FROM\n",
    "\torders_table\n",
    "INNER JOIN\n",
    "\tdim_store_details ON dim_store_details.store_code = orders_table.store_code\n",
    "GROUP BY\n",
    "\tdim_store_details.store_type;\n",
    "\n",
    "-- This will group the sales information by the store type\n",
    "-- Next you will need to create a new column to define the location Web, Offline"
   ]
  }
 ],
 "metadata": {
  "language_info": {
   "name": "python"
  }
 },
 "nbformat": 4,
 "nbformat_minor": 2
}
