{
 "cells": [
  {
   "cell_type": "markdown",
   "metadata": {},
   "source": [
    "### Milestone 2 Task 6"
   ]
  },
  {
   "cell_type": "code",
   "execution_count": 1,
   "metadata": {},
   "outputs": [],
   "source": [
    "import boto3\n",
    "import pandas as pd\n",
    "from data_extraction import DataExtractor\n",
    "from data_cleaning import DataCleaning\n",
    "from database_utils import DatabaseConnector"
   ]
  },
  {
   "cell_type": "code",
   "execution_count": 2,
   "metadata": {},
   "outputs": [],
   "source": [
    "# Extract product information from s3 address and return a pandas DataFrame\n",
    "\n",
    "# extractor = DataExtractor()\n",
    "# s3_path = \"s3://data-handling-public/products.csv\"\n",
    "# products_df = extractor.extract_from_s3(s3_path)\n",
    "# #print(products_df)\n",
    "# products_df.to_csv('products.csv', index=False)"
   ]
  },
  {
   "cell_type": "code",
   "execution_count": 3,
   "metadata": {},
   "outputs": [],
   "source": [
    "products_df = pd.read_csv('products.csv')"
   ]
  },
  {
   "cell_type": "code",
   "execution_count": 4,
   "metadata": {},
   "outputs": [
    {
     "name": "stdout",
     "output_type": "stream",
     "text": [
      "<class 'pandas.core.frame.DataFrame'>\n",
      "RangeIndex: 1853 entries, 0 to 1852\n",
      "Data columns (total 10 columns):\n",
      " #   Column         Non-Null Count  Dtype \n",
      "---  ------         --------------  ----- \n",
      " 0   Unnamed: 0     1853 non-null   int64 \n",
      " 1   product_name   1849 non-null   object\n",
      " 2   product_price  1849 non-null   object\n",
      " 3   weight         1849 non-null   object\n",
      " 4   category       1849 non-null   object\n",
      " 5   EAN            1849 non-null   object\n",
      " 6   date_added     1849 non-null   object\n",
      " 7   uuid           1849 non-null   object\n",
      " 8   removed        1849 non-null   object\n",
      " 9   product_code   1849 non-null   object\n",
      "dtypes: int64(1), object(9)\n",
      "memory usage: 144.9+ KB\n"
     ]
    }
   ],
   "source": [
    "products_df.info()"
   ]
  },
  {
   "cell_type": "code",
   "execution_count": 5,
   "metadata": {},
   "outputs": [
    {
     "name": "stdout",
     "output_type": "stream",
     "text": [
      "Initiating weight conversion for 'weight' column.\n",
      "Weight conversion for 'weight' column complete.\n"
     ]
    }
   ],
   "source": [
    "# Create an instance of the DataCleaning class\n",
    "cleaner = DataCleaning(products_df)\n",
    "# Convert the product weights into kg\n",
    "clean_1_products_df = cleaner.convert_product_weights()"
   ]
  },
  {
   "cell_type": "code",
   "execution_count": 6,
   "metadata": {},
   "outputs": [
    {
     "name": "stdout",
     "output_type": "stream",
     "text": [
      "<class 'pandas.core.frame.DataFrame'>\n",
      "RangeIndex: 1853 entries, 0 to 1852\n",
      "Data columns (total 10 columns):\n",
      " #   Column         Non-Null Count  Dtype  \n",
      "---  ------         --------------  -----  \n",
      " 0   Unnamed: 0     1853 non-null   int64  \n",
      " 1   product_name   1849 non-null   object \n",
      " 2   product_price  1849 non-null   object \n",
      " 3   weight         1846 non-null   float64\n",
      " 4   category       1849 non-null   object \n",
      " 5   EAN            1849 non-null   object \n",
      " 6   date_added     1849 non-null   object \n",
      " 7   uuid           1849 non-null   object \n",
      " 8   removed        1849 non-null   object \n",
      " 9   product_code   1849 non-null   object \n",
      "dtypes: float64(1), int64(1), object(8)\n",
      "memory usage: 144.9+ KB\n"
     ]
    }
   ],
   "source": [
    "clean_1_products_df.info()"
   ]
  },
  {
   "cell_type": "code",
   "execution_count": 7,
   "metadata": {},
   "outputs": [
    {
     "name": "stdout",
     "output_type": "stream",
     "text": [
      "Commencing DataFrame cleaning.\n",
      "DataFrame has now been cleaned.\n"
     ]
    }
   ],
   "source": [
    "# Clean the 'products_df'\n",
    "clean2_products_df = cleaner.clean_products_data()"
   ]
  },
  {
   "cell_type": "code",
   "execution_count": 8,
   "metadata": {},
   "outputs": [
    {
     "name": "stdout",
     "output_type": "stream",
     "text": [
      "<class 'pandas.core.frame.DataFrame'>\n",
      "Index: 1846 entries, 0 to 1852\n",
      "Data columns (total 9 columns):\n",
      " #   Column         Non-Null Count  Dtype  \n",
      "---  ------         --------------  -----  \n",
      " 0   product_name   1846 non-null   object \n",
      " 1   product_price  1846 non-null   object \n",
      " 2   weight         1846 non-null   float64\n",
      " 3   category       1846 non-null   object \n",
      " 4   EAN            1846 non-null   object \n",
      " 5   date_added     1846 non-null   object \n",
      " 6   uuid           1846 non-null   object \n",
      " 7   removed        1846 non-null   object \n",
      " 8   product_code   1846 non-null   object \n",
      "dtypes: float64(1), object(8)\n",
      "memory usage: 144.2+ KB\n"
     ]
    }
   ],
   "source": [
    "clean2_products_df.info()"
   ]
  },
  {
   "cell_type": "code",
   "execution_count": 9,
   "metadata": {},
   "outputs": [
    {
     "name": "stdout",
     "output_type": "stream",
     "text": [
      "Called 'init_db_engine' method for database engine initialisation.\n",
      "Read credentials from rds_upload_db_creds.yaml\n",
      "Database credentials now stored in 'credentials' variable.\n",
      "Database engine initialised successfully with the credentials in rds_upload_db_creds.yaml.\n",
      "Data uploaded to the 'dim_products' table successfully.\n"
     ]
    }
   ],
   "source": [
    "# Now let's initialise the engine that we will upload our DataFrame to\n",
    "\n",
    "# Create an instance of the DatabaseConnector class\n",
    "database = DatabaseConnector()\n",
    "# We will set the 'yaml_file_path' to ensure the connection is made to the upload database engine\n",
    "upload_engine = database.init_db_engine(yaml_file_path='rds_upload_db_creds.yaml')\n",
    "\n",
    "# Upload 'clean2_products_df' to our initialised engine\n",
    "database.upload_to_db(clean2_products_df, table_name='dim_products')"
   ]
  }
 ],
 "metadata": {
  "kernelspec": {
   "display_name": "base",
   "language": "python",
   "name": "python3"
  },
  "language_info": {
   "codemirror_mode": {
    "name": "ipython",
    "version": 3
   },
   "file_extension": ".py",
   "mimetype": "text/x-python",
   "name": "python",
   "nbconvert_exporter": "python",
   "pygments_lexer": "ipython3",
   "version": "3.11.6"
  }
 },
 "nbformat": 4,
 "nbformat_minor": 2
}
