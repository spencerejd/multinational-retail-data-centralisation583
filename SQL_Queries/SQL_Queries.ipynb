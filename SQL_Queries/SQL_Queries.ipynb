{
 "cells": [
  {
   "cell_type": "markdown",
   "metadata": {},
   "source": [
    "## SQL Queries"
   ]
  },
  {
   "cell_type": "markdown",
   "metadata": {},
   "source": [
    "#### Task 1: How many stores does the business have and in which countries?\n",
    "\n",
    "The Operations team would like to know which countries we currently operate in and which country now has the most stores. Perform a query on the database to get the information, it should return the following information:\n"
   ]
  },
  {
   "cell_type": "code",
   "execution_count": null,
   "metadata": {
    "vscode": {
     "languageId": "plaintext"
    }
   },
   "outputs": [],
   "source": [
    "+----------+-----------------+\n",
    "| country  | total_no_stores |\n",
    "+----------+-----------------+\n",
    "| GB       |             265 |\n",
    "| DE       |             141 |\n",
    "| US       |              34 |\n",
    "+----------+-----------------+"
   ]
  },
  {
   "cell_type": "code",
   "execution_count": null,
   "metadata": {
    "vscode": {
     "languageId": "plaintext"
    }
   },
   "outputs": [],
   "source": [
    "-- Subsequent SQL Query to extract this data\n",
    "\n",
    "SELECT DISTINCT(country_code) as country,\n",
    "\tCOUNT(country_code) as total_no_stores\n",
    "FROM dim_store_details\n",
    "GROUP BY country_code\n",
    "ORDER BY total_no_stores DESC;"
   ]
  },
  {
   "cell_type": "markdown",
   "metadata": {},
   "source": [
    "#### Task 2: Which locations currently have the most stores?\n",
    "\n",
    "The business stakeholders would like to know which locations currently have the most stores.\n",
    "\n",
    "They would like to close some stores before opening more in other locations.\n",
    "\n",
    "Find out which locations have the most stores currently. The query should return the following:"
   ]
  },
  {
   "cell_type": "code",
   "execution_count": null,
   "metadata": {
    "vscode": {
     "languageId": "plaintext"
    }
   },
   "outputs": [],
   "source": [
    "+-------------------+-----------------+\n",
    "|     locality      | total_no_stores |\n",
    "+-------------------+-----------------+\n",
    "| Chapletown        |              14 |\n",
    "| Belper            |              13 |\n",
    "| Bushley           |              12 |\n",
    "| Exeter            |              11 |\n",
    "| High Wycombe      |              10 |\n",
    "| Arbroath          |              10 |\n",
    "| Rutherglen        |              10 |\n",
    "+-------------------+-----------------+"
   ]
  },
  {
   "cell_type": "code",
   "execution_count": null,
   "metadata": {
    "vscode": {
     "languageId": "plaintext"
    }
   },
   "outputs": [],
   "source": [
    "SELECT DISTINCT locality,\n",
    "\t\tCOUNT(store_code) as total_no_stores\n",
    "FROM dim_store_details\n",
    "GROUP BY locality\n",
    "ORDER BY COUNT(store_code) DESC\n",
    "LIMIT 7;"
   ]
  },
  {
   "cell_type": "markdown",
   "metadata": {},
   "source": [
    "#### Task 3: Which months produced the largest amount of sales?\n",
    "\n",
    "Query the database to find out which months have produced the most sales. The query should return the following information:"
   ]
  },
  {
   "cell_type": "code",
   "execution_count": null,
   "metadata": {
    "vscode": {
     "languageId": "plaintext"
    }
   },
   "outputs": [],
   "source": [
    "+-------------+-------+\n",
    "| total_sales | month |\n",
    "+-------------+-------+\n",
    "|   673295.68 |     8 |\n",
    "|   668041.45 |     1 |\n",
    "|   657335.84 |    10 |\n",
    "|   650321.43 |     5 |\n",
    "|   645741.70 |     7 |\n",
    "|   645463.00 |     3 |\n",
    "+-------------+-------+"
   ]
  },
  {
   "cell_type": "markdown",
   "metadata": {},
   "source": [
    "It appears you need to write a joining statement to join three tables to get date, product price & product quantity;\n",
    "- dim_products (product_code & product_price columns)\n",
    "- orders_table (product_code, product_quantity & date_uuid columns)\n",
    "- dim_date_times (month & date_uuid columns)"
   ]
  },
  {
   "cell_type": "markdown",
   "metadata": {},
   "source": [
    "The SQL Query:"
   ]
  },
  {
   "cell_type": "code",
   "execution_count": null,
   "metadata": {
    "vscode": {
     "languageId": "plaintext"
    }
   },
   "outputs": [],
   "source": [
    "SELECT\n",
    "\tROUND(SUM(orders_table.product_quantity * dim_products.product_price)::numeric,2) AS total_sales,\n",
    "\tdim_date_times.month\n",
    "FROM\n",
    "\torders_table\n",
    "INNER JOIN\n",
    "\tdim_date_times ON dim_date_times.date_uuid = orders_table.date_uuid\n",
    "INNER JOIN\n",
    "\tdim_products ON dim_products.product_code = orders_table.product_code\n",
    "GROUP BY dim_date_times.month\n",
    "ORDER BY SUM(orders_table.product_quantity * dim_products.product_price) DESC\n",
    "LIMIT 6;"
   ]
  },
  {
   "cell_type": "code",
   "execution_count": null,
   "metadata": {
    "vscode": {
     "languageId": "plaintext"
    }
   },
   "outputs": [],
   "source": [
    "-- Working out/draft\n",
    "\n",
    "-- First part\n",
    "\n",
    "SELECT DISTINCT month\n",
    "FROM dim_date_times\n",
    "LIMIT 6;\n",
    "\n",
    "-- orders_table.product_quantity * dim_products.product_price\n",
    "\n",
    "-- Total orders per month\n",
    "\n",
    "SELECT COUNT(orders_table.product_code) AS total_orders,\n",
    "\t\tdim_date_times.month\n",
    "FROM\n",
    "\torders_table\n",
    "INNER JOIN\n",
    "\tdim_date_times ON dim_date_times.date_uuid = orders_table.date_uuid\n",
    "GROUP BY dim_date_times.month\n",
    "ORDER BY COUNT(orders_table.product_code) DESC;\n",
    "\n",
    "-- You need to multiply orders_table.product_quantity by dim_products.product_price\n",
    "\n",
    "SELECT (orders_table.product_quantity * dim_products.product_price) AS total_product_sale,\n",
    "\t\tdim_date_times.month\n",
    "FROM\n",
    "\torders_table\n",
    "INNER JOIN\n",
    "\tdim_date_times ON dim_date_times.date_uuid = orders_table.date_uuid\n",
    "INNER JOIN\n",
    "\tdim_products ON dim_products.product_code = orders_table.product_code\n",
    "GROUP BY dim_date_times.month, orders_table.product_quantity, dim_products.product_price\n",
    "ORDER BY dim_date_times.month DESC;\n",
    "\n"
   ]
  },
  {
   "cell_type": "markdown",
   "metadata": {},
   "source": [
    "#### Task 4: How many sales are coming from online?\n",
    "\n",
    "The company is looking to increase its online sales.\n",
    "They want to know how many sales are happening online vs offline.\n",
    "Calculate how many products were sold and the amount of sales made for online and offline purchases.\n",
    "You should get the following information:"
   ]
  },
  {
   "cell_type": "code",
   "execution_count": null,
   "metadata": {
    "vscode": {
     "languageId": "plaintext"
    }
   },
   "outputs": [],
   "source": [
    "+------------------+-------------------------+----------+\n",
    "| numbers_of_sales | product_quantity_count  | location |\n",
    "+------------------+-------------------------+----------+\n",
    "|            26957 |                  107739 | Web      |\n",
    "|            93166 |                  374047 | Offline  |\n",
    "+------------------+-------------------------+----------+"
   ]
  },
  {
   "cell_type": "markdown",
   "metadata": {},
   "source": [
    "You'll need to extract data from the following;\n",
    "- dim_store_details (store_type & store_code columns)\n",
    "    - you'll need store_type of Web and everything else grouped as one\n",
    "- orders_table (product_quantity & card_number columns)\n",
    "- a way to tally each individual payment completed linked to the above details\n",
    "    - could that be with dim_card_details (and just card_number column?)"
   ]
  },
  {
   "cell_type": "code",
   "execution_count": null,
   "metadata": {
    "vscode": {
     "languageId": "plaintext"
    }
   },
   "outputs": [],
   "source": [
    "orders_table will give you sale (product_code) and quantity (product_quantity)\n",
    "\n",
    "-- Can we find out a way to see number of sales and product quantity per store_type?\n",
    "\n",
    "To set location as Web or Offline, I believe you will need to create a new column\n",
    "for the purpose of this task\n",
    "\n",
    "SELECT\n",
    "\tCOUNT(orders_table.product_code) AS number_of_sales,\n",
    "\tSUM(orders_table.product_quantity) AS product_quantity_count,\n",
    "\tdim_store_details.store_type\n",
    "FROM\n",
    "\torders_table\n",
    "INNER JOIN\n",
    "\tdim_store_details ON dim_store_details.store_code = orders_table.store_code\n",
    "GROUP BY\n",
    "\tdim_store_details.store_type;\n",
    "\n",
    "-- This will group the sales information by the store type\n",
    "-- Next you will need to create a new column to define the location Web, Offline"
   ]
  },
  {
   "cell_type": "markdown",
   "metadata": {},
   "source": [
    "The SQL Query:"
   ]
  },
  {
   "cell_type": "code",
   "execution_count": null,
   "metadata": {
    "vscode": {
     "languageId": "plaintext"
    }
   },
   "outputs": [],
   "source": [
    "SELECT\n",
    "\tCOUNT(orders_table.product_code) AS number_of_sales,\n",
    "\tSUM(orders_table.product_quantity) AS product_quantity_count,\n",
    "CASE\n",
    "\tWHEN dim_store_details.store_type = 'Web Portal' THEN 'Web'\n",
    "\tELSE 'Offline'\n",
    "END AS location\n",
    "FROM\n",
    "\torders_table\n",
    "INNER JOIN\n",
    "\tdim_store_details ON dim_store_details.store_code = orders_table.store_code\n",
    "GROUP BY\n",
    "\tCASE\n",
    "\t\tWHEN dim_store_details.store_type = 'Web Portal' THEN 'Web'\n",
    "\t\tELSE 'Offline'\n",
    "\tEND;"
   ]
  },
  {
   "cell_type": "markdown",
   "metadata": {},
   "source": [
    "#### Task 5: What percentage of sales come through each type of store?\n",
    "\n",
    "The sales team wants to know which of the different store types is generated the most revenue so they know where to focus.\n",
    "\n",
    "Find out the total and percentage of sales coming from each of the different store types.\n",
    "\n",
    "The query should return:\n"
   ]
  },
  {
   "cell_type": "code",
   "execution_count": null,
   "metadata": {
    "vscode": {
     "languageId": "plaintext"
    }
   },
   "outputs": [],
   "source": [
    "+-------------+-------------+---------------------+\n",
    "| store_type  | total_sales | percentage_total(%) |\n",
    "+-------------+-------------+---------------------+\n",
    "| Local       |  3440896.52 |               44.87 |\n",
    "| Web portal  |  1726547.05 |               22.44 |\n",
    "| Super Store |  1224293.65 |               15.63 |\n",
    "| Mall Kiosk  |   698791.61 |                8.96 |\n",
    "| Outlet      |   631804.81 |                8.10 |\n",
    "+-------------+-------------+---------------------+"
   ]
  },
  {
   "cell_type": "code",
   "execution_count": null,
   "metadata": {
    "vscode": {
     "languageId": "plaintext"
    }
   },
   "outputs": [],
   "source": [
    "-- Returns store_type;\n",
    "\n",
    "SELECT store_type\n",
    "FROM dim_store_details\n",
    "GROUP BY store_type;\n",
    "\n",
    "-- Returns number_of_sales;\n",
    "SELECT COUNT(store_code)\n",
    "FROM orders_table;\n",
    "\n",
    "\n",
    "-- This returns everything, apart from the percentage_total column\n",
    "SELECT\n",
    "\tdim_store_details.store_type,\n",
    "\tROUND(SUM(orders_table.product_quantity * dim_products.product_price)::numeric,2) AS total_sales\n",
    "\t(SUM(orders_table.product_quantity * dim_products.product_price)) AS percentage_total(%)\n",
    "FROM\n",
    "\torders_table\n",
    "INNER JOIN\n",
    "\tdim_store_details ON orders_table.store_code = dim_store_details.store_code\n",
    "INNER JOIN\n",
    "\tdim_products ON dim_products.product_code = orders_table.product_code\n",
    "GROUP BY dim_store_details.store_type\n",
    "ORDER BY ROUND(SUM(orders_table.product_quantity * dim_products.product_price)::numeric,2) DESC;\n",
    "\n",
    "To complete this, I think you might need to use a CTE or a subquery to calculate the total_sales"
   ]
  },
  {
   "cell_type": "markdown",
   "metadata": {},
   "source": [
    "The SQL Query:"
   ]
  },
  {
   "cell_type": "code",
   "execution_count": null,
   "metadata": {
    "vscode": {
     "languageId": "plaintext"
    }
   },
   "outputs": [],
   "source": [
    "WITH TotalSales AS (\n",
    "    SELECT\n",
    "        dim_store_details.store_type,\n",
    "        SUM(orders_table.product_quantity * dim_products.product_price) AS total_sales\n",
    "    FROM\n",
    "        orders_table\n",
    "    INNER JOIN\n",
    "        dim_store_details ON orders_table.store_code = dim_store_details.store_code\n",
    "    INNER JOIN\n",
    "        dim_products ON dim_products.product_code = orders_table.product_code\n",
    "    GROUP BY dim_store_details.store_type\n",
    "), TotalSalesSum AS (\n",
    "    SELECT SUM(total_sales) AS total_sum\n",
    "    FROM TotalSales\n",
    ")\n",
    "\n",
    "SELECT\n",
    "    TS.store_type,\n",
    "    ROUND(TS.total_sales::numeric, 2) AS total_sales,\n",
    "    ROUND(((TS.total_sales / TSS.total_sum) * 100)::numeric, 2) AS percentage_total\n",
    "\n",
    "FROM\n",
    "    TotalSales TS, TotalSalesSum TSS\n",
    "ORDER BY\n",
    "    TS.total_sales DESC;"
   ]
  },
  {
   "cell_type": "markdown",
   "metadata": {},
   "source": [
    "#### Task 6: Which month in each year produced the highest cost of sales?\n",
    "\n",
    "The company stakeholders want assurances that the company has been doing well recently.\n",
    "\n",
    "Find which months in which years have had the most sales historically.\n",
    "\n",
    "The query should return the following information:"
   ]
  },
  {
   "cell_type": "code",
   "execution_count": null,
   "metadata": {
    "vscode": {
     "languageId": "plaintext"
    }
   },
   "outputs": [],
   "source": [
    "+-------------+------+-------+\n",
    "| total_sales | year | month |\n",
    "+-------------+------+-------+\n",
    "|    27936.77 | 1994 |     3 |\n",
    "|    27356.14 | 2019 |     1 |\n",
    "|    27091.67 | 2009 |     8 |\n",
    "|    26679.98 | 1997 |    11 |\n",
    "|    26310.97 | 2018 |    12 |\n",
    "|    26277.72 | 2019 |     8 |\n",
    "|    26236.67 | 2017 |     9 |\n",
    "|    25798.12 | 2010 |     5 |\n",
    "|    25648.29 | 1996 |     8 |\n",
    "|    25614.54 | 2000 |     1 |\n",
    "+-------------+------+-------+"
   ]
  },
  {
   "cell_type": "markdown",
   "metadata": {},
   "source": [
    "SQL Query:"
   ]
  },
  {
   "cell_type": "code",
   "execution_count": null,
   "metadata": {
    "vscode": {
     "languageId": "plaintext"
    }
   },
   "outputs": [],
   "source": [
    "SELECT\n",
    "\t\tROUND(SUM(orders_table.product_quantity * dim_products.product_price)::numeric, 2) AS total_sales,\n",
    "\t\tdim_date_times.year,\n",
    "\t\tdim_date_times.month\n",
    "    FROM\n",
    "        orders_table\n",
    "    INNER JOIN\n",
    "        dim_date_times ON orders_table.date_uuid = dim_date_times.date_uuid\n",
    "    INNER JOIN\n",
    "        dim_products ON dim_products.product_code = orders_table.product_code\n",
    "    GROUP BY dim_date_times.year, dim_date_times.month\n",
    "\tORDER BY total_sales DESC\n",
    "\tLIMIT 10;"
   ]
  },
  {
   "cell_type": "markdown",
   "metadata": {},
   "source": [
    "#### Task 7: What is our staff headcount?\n",
    "\n",
    "The operations team would like to know the overall staff numbers in each location around the world.\n",
    "Perform a query to determine the staff numbers in each of the countries the company sells in.\n",
    "\n",
    "The query should return the values:"
   ]
  },
  {
   "cell_type": "code",
   "execution_count": null,
   "metadata": {
    "vscode": {
     "languageId": "plaintext"
    }
   },
   "outputs": [],
   "source": [
    "+---------------------+--------------+\n",
    "| total_staff_numbers | country_code |\n",
    "+---------------------+--------------+\n",
    "|               13307 | GB           |\n",
    "|                6123 | DE           |\n",
    "|                1384 | US           |\n",
    "+---------------------+--------------+"
   ]
  },
  {
   "cell_type": "markdown",
   "metadata": {},
   "source": [
    "The SQL Query:"
   ]
  },
  {
   "cell_type": "code",
   "execution_count": null,
   "metadata": {
    "vscode": {
     "languageId": "plaintext"
    }
   },
   "outputs": [],
   "source": [
    "SELECT\n",
    "\tSUM(staff_numbers) AS total_staff_numbers,\n",
    "\tcountry_code\n",
    "FROM\n",
    "\tdim_store_details\n",
    "GROUP BY\n",
    "\tcountry_code\n",
    "ORDER BY\n",
    "\ttotal_staff_numbers DESC;"
   ]
  },
  {
   "cell_type": "markdown",
   "metadata": {},
   "source": [
    "#### Task 8: Which German store type is selling the most?\n",
    "\n",
    "The sales team is looking to expand their territory in Germany.\n",
    "Determine which type of store is generating the most sales in Germany.\n",
    "\n",
    "The query will return:"
   ]
  },
  {
   "cell_type": "code",
   "execution_count": null,
   "metadata": {
    "vscode": {
     "languageId": "plaintext"
    }
   },
   "outputs": [],
   "source": [
    "+--------------+-------------+--------------+\n",
    "| total_sales  | store_type  | country_code |\n",
    "+--------------+-------------+--------------+\n",
    "|   198373.57  | Outlet      | DE           |\n",
    "|   247634.20  | Mall Kiosk  | DE           |\n",
    "|   384625.03  | Super Store | DE           |\n",
    "|  1109909.59  | Local       | DE           |\n",
    "+--------------+-------------+--------------+"
   ]
  },
  {
   "cell_type": "markdown",
   "metadata": {},
   "source": [
    "The SQL Query:"
   ]
  },
  {
   "cell_type": "code",
   "execution_count": null,
   "metadata": {
    "vscode": {
     "languageId": "plaintext"
    }
   },
   "outputs": [],
   "source": [
    "SELECT\n",
    "\tROUND(SUM(orders_table.product_quantity * dim_products.product_price)::numeric,2) AS total_sales,\n",
    "\tdim_store_details.store_type,\n",
    "\tdim_store_details.country_code\n",
    "FROM\n",
    "\torders_table\n",
    "INNER JOIN\n",
    "\tdim_store_details ON orders_table.store_code = dim_store_details.store_code\n",
    "INNER JOIN\n",
    "\tdim_products ON dim_products.product_code = orders_table.product_code\n",
    "WHERE\n",
    "\tdim_store_details.country_code = 'DE'\n",
    "GROUP BY\n",
    "\tdim_store_details.store_type, dim_store_details.country_code\n",
    "ORDER BY ROUND(SUM(orders_table.product_quantity * dim_products.product_price)::numeric,2);"
   ]
  },
  {
   "cell_type": "markdown",
   "metadata": {},
   "source": [
    "#### Task 9: How quickly is the company making sales?\n",
    "\n",
    "Sales would like the get an accurate metric for how quickly the company is making sales.\n",
    "\n",
    "Determine the average time taken between each sale grouped by year, the query should return the following information.\n",
    "\n",
    "Hint: You will need the SQL command LEAD."
   ]
  },
  {
   "cell_type": "code",
   "execution_count": null,
   "metadata": {
    "vscode": {
     "languageId": "plaintext"
    }
   },
   "outputs": [],
   "source": [
    " +------+-------------------------------------------------------+\n",
    " | year |                           actual_time_taken           |\n",
    " +------+-------------------------------------------------------+\n",
    " | 2013 | \"hours\": 2, \"minutes\": 17, \"seconds\": 12, \"millise... |\n",
    " | 1993 | \"hours\": 2, \"minutes\": 15, \"seconds\": 35, \"millise... |\n",
    " | 2002 | \"hours\": 2, \"minutes\": 13, \"seconds\": 50, \"millise... | \n",
    " | 2022 | \"hours\": 2, \"minutes\": 13, \"seconds\": 6,  \"millise... |\n",
    " | 2008 | \"hours\": 2, \"minutes\": 13, \"seconds\": 2,  \"millise... |\n",
    " +------+-------------------------------------------------------+"
   ]
  },
  {
   "cell_type": "code",
   "execution_count": null,
   "metadata": {
    "vscode": {
     "languageId": "plaintext"
    }
   },
   "outputs": [],
   "source": [
    "-- What columns do you need?\n",
    "dim_date_times.year\n",
    "COUNT(dim_date_times.date_uuid)\n",
    "GROUP BY year\n"
   ]
  },
  {
   "cell_type": "code",
   "execution_count": null,
   "metadata": {
    "vscode": {
     "languageId": "plaintext"
    }
   },
   "outputs": [],
   "source": [
    "WITH TimeDifferences AS (\n",
    "    SELECT\n",
    "        dim_date_times.year,\n",
    "        EXTRACT(EPOCH FROM (\n",
    "            LEAD(\n",
    "                CAST(\n",
    "                    dim_date_times.year || '-' || \n",
    "                    dim_date_times.month || '-' || \n",
    "                    dim_date_times.day || ' ' || \n",
    "                    dim_date_times.timestamp\n",
    "                AS timestamp)\n",
    "            ) OVER (PARTITION BY dim_date_times.year ORDER BY dim_date_times.year, dim_date_times.month, dim_date_times.day, dim_date_times.timestamp) \n",
    "            - CAST(\n",
    "                dim_date_times.year || '-' || \n",
    "                dim_date_times.month || '-' || \n",
    "                dim_date_times.day || ' ' || \n",
    "                dim_date_times.timestamp\n",
    "            AS timestamp)\n",
    "        )) AS time_diff\n",
    "    FROM\n",
    "        orders_table\n",
    "    INNER JOIN\n",
    "        dim_date_times ON dim_date_times.date_uuid = orders_table.date_uuid\n",
    ")\n",
    "\n",
    "SELECT\n",
    "    year,\n",
    "    '\"' || 'hours' || '\": ' || FLOOR(AVG(time_diff) / 3600) || ', ' ||\n",
    "    '\"' || 'minutes' || '\": ' || FLOOR((AVG(time_diff) % 3600) / 60) || ', ' ||\n",
    "    '\"' || 'seconds' || '\": ' || FLOOR(AVG(time_diff) % 60) || ', ' ||\n",
    "    '\"' || 'milliseconds' || '\": ' || ROUND((AVG(time_diff) - FLOOR(AVG(time_diff))) * 1000) AS actual_time_taken\n",
    "FROM \n",
    "    TimeDifferences\n",
    "WHERE \n",
    "    time_diff IS NOT NULL\n",
    "GROUP BY \n",
    "    year\n",
    "ORDER BY \n",
    "    actual_time_taken DESC\n",
    "LIMIT 5;"
   ]
  }
 ],
 "metadata": {
  "language_info": {
   "name": "python"
  }
 },
 "nbformat": 4,
 "nbformat_minor": 2
}
