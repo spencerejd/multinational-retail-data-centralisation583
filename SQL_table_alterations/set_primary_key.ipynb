{
 "cells": [
  {
   "cell_type": "markdown",
   "metadata": {},
   "source": [
    "## Set Primary Key columns in database"
   ]
  },
  {
   "cell_type": "markdown",
   "metadata": {},
   "source": [
    "##### Set the primary keys in the dimension tables."
   ]
  },
  {
   "cell_type": "code",
   "execution_count": 1,
   "metadata": {},
   "outputs": [],
   "source": [
    "import yaml\n",
    "import psycopg2"
   ]
  },
  {
   "cell_type": "markdown",
   "metadata": {},
   "source": [
    "dim_card_details"
   ]
  },
  {
   "cell_type": "code",
   "execution_count": 2,
   "metadata": {},
   "outputs": [
    {
     "name": "stdout",
     "output_type": "stream",
     "text": [
      "Connected to sales_data database\n",
      "Primary key set on dim_card_details successfully.\n",
      "Database connection closed.\n"
     ]
    }
   ],
   "source": [
    "# Load database credentials from YAML file\n",
    "with open('rds_upload_db_creds.yaml', 'r') as file:\n",
    "    creds = yaml.safe_load(file)\n",
    "\n",
    "try:\n",
    "    # Establish a database connection\n",
    "    connection = psycopg2.connect(\n",
    "        host=creds['RDS_HOST'],\n",
    "        user=creds['RDS_USER'],\n",
    "        password=creds['RDS_PASSWORD'],\n",
    "        database=creds['RDS_DATABASE']\n",
    "    )\n",
    "    # Check if the connection was successful\n",
    "    if connection:\n",
    "        print (f\"Connected to {creds['RDS_DATABASE']} database\")\n",
    "\n",
    "    # Add primary key to dim_card_details\n",
    "    with connection.cursor() as cursor:\n",
    "        cursor.execute(\"\"\"\n",
    "            ALTER TABLE dim_card_details\n",
    "            ADD PRIMARY KEY (card_number);\n",
    "                       \"\"\")\n",
    "        \n",
    "        connection.commit()\n",
    "        print(\"Primary key set on dim_card_details successfully.\")\n",
    "    \n",
    "except Exception as e:\n",
    "    print(f\"Error: {e}\")\n",
    "\n",
    "finally:\n",
    "    if connection:\n",
    "        connection.close()\n",
    "        print(\"Database connection closed.\")"
   ]
  },
  {
   "cell_type": "markdown",
   "metadata": {},
   "source": [
    "dim_date_times"
   ]
  },
  {
   "cell_type": "code",
   "execution_count": 3,
   "metadata": {},
   "outputs": [
    {
     "name": "stdout",
     "output_type": "stream",
     "text": [
      "Connected to sales_data database\n",
      "Primary key set on dim_date_times successfully.\n",
      "Database connection closed.\n"
     ]
    }
   ],
   "source": [
    "# Load database credentials from YAML file\n",
    "with open('rds_upload_db_creds.yaml', 'r') as file:\n",
    "    creds = yaml.safe_load(file)\n",
    "\n",
    "try:\n",
    "    # Establish a database connection\n",
    "    connection = psycopg2.connect(\n",
    "        host=creds['RDS_HOST'],\n",
    "        user=creds['RDS_USER'],\n",
    "        password=creds['RDS_PASSWORD'],\n",
    "        database=creds['RDS_DATABASE']\n",
    "    )\n",
    "    # Check if the connection was successful\n",
    "    if connection:\n",
    "        print (f\"Connected to {creds['RDS_DATABASE']} database\")\n",
    "\n",
    "    # Add primary key to dim_date_times\n",
    "    with connection.cursor() as cursor:\n",
    "        cursor.execute(\"\"\"\n",
    "            ALTER TABLE dim_date_times\n",
    "            ADD PRIMARY KEY (date_uuid);\n",
    "                       \"\"\")\n",
    "        connection.commit()\n",
    "        print(\"Primary key set on dim_date_times successfully.\")\n",
    "    \n",
    "except Exception as e:\n",
    "    print(f\"Error: {e}\")\n",
    "\n",
    "finally:\n",
    "    if connection:\n",
    "        connection.close()\n",
    "        print(\"Database connection closed.\")"
   ]
  },
  {
   "cell_type": "markdown",
   "metadata": {},
   "source": [
    "dim_users"
   ]
  },
  {
   "cell_type": "code",
   "execution_count": 2,
   "metadata": {},
   "outputs": [
    {
     "name": "stdout",
     "output_type": "stream",
     "text": [
      "Connected to sales_data database\n",
      "Primary key set on dim_users successfully.\n",
      "Database connection closed.\n"
     ]
    }
   ],
   "source": [
    "# Load database credentials from YAML file\n",
    "with open('rds_upload_db_creds.yaml', 'r') as file:\n",
    "    creds = yaml.safe_load(file)\n",
    "\n",
    "try:\n",
    "    # Establish a database connection\n",
    "    connection = psycopg2.connect(\n",
    "        host=creds['RDS_HOST'],\n",
    "        user=creds['RDS_USER'],\n",
    "        password=creds['RDS_PASSWORD'],\n",
    "        database=creds['RDS_DATABASE']\n",
    "    )\n",
    "    # Check if the connection was successful\n",
    "    if connection:\n",
    "        print (f\"Connected to {creds['RDS_DATABASE']} database\")\n",
    "\n",
    "    # Add primary key to dim_users\n",
    "    with connection.cursor() as cursor:\n",
    "        cursor.execute(\"\"\"\n",
    "            ALTER TABLE dim_users\n",
    "            ADD PRIMARY KEY (user_uuid);\n",
    "                       \"\"\")\n",
    "        connection.commit()\n",
    "        print(\"Primary key set on dim_users successfully.\")\n",
    "    \n",
    "except Exception as e:\n",
    "    print(f\"Error: {e}\")\n",
    "\n",
    "finally:\n",
    "    if connection:\n",
    "        connection.close()\n",
    "        print(\"Database connection closed.\")"
   ]
  },
  {
   "cell_type": "markdown",
   "metadata": {},
   "source": [
    "dim_products"
   ]
  },
  {
   "cell_type": "code",
   "execution_count": 2,
   "metadata": {},
   "outputs": [
    {
     "name": "stdout",
     "output_type": "stream",
     "text": [
      "Connected to sales_data database\n",
      "Primary key set on dim_products successfully.\n",
      "Database connection closed.\n"
     ]
    }
   ],
   "source": [
    "# Load database credentials from YAML file\n",
    "with open('rds_upload_db_creds.yaml', 'r') as file:\n",
    "    creds = yaml.safe_load(file)\n",
    "\n",
    "try:\n",
    "    # Establish a database connection\n",
    "    connection = psycopg2.connect(\n",
    "        host=creds['RDS_HOST'],\n",
    "        user=creds['RDS_USER'],\n",
    "        password=creds['RDS_PASSWORD'],\n",
    "        database=creds['RDS_DATABASE']\n",
    "    )\n",
    "    # Check if the connection was successful\n",
    "    if connection:\n",
    "        print (f\"Connected to {creds['RDS_DATABASE']} database\")\n",
    "\n",
    "    # Add primary key to dim_products\n",
    "    with connection.cursor() as cursor:\n",
    "        cursor.execute(\"\"\"\n",
    "            ALTER TABLE dim_products\n",
    "            ADD PRIMARY KEY (product_code);\n",
    "                       \"\"\")\n",
    "        connection.commit()\n",
    "        print(\"Primary key set on dim_products successfully.\")\n",
    "    \n",
    "except Exception as e:\n",
    "    print(f\"Error: {e}\")\n",
    "\n",
    "finally:\n",
    "    if connection:\n",
    "        connection.close()\n",
    "        print(\"Database connection closed.\")"
   ]
  },
  {
   "cell_type": "markdown",
   "metadata": {},
   "source": [
    "dim_store_details"
   ]
  },
  {
   "cell_type": "code",
   "execution_count": 2,
   "metadata": {},
   "outputs": [
    {
     "name": "stdout",
     "output_type": "stream",
     "text": [
      "Connected to sales_data database\n",
      "Primary key set on dim_store_details successfully.\n",
      "Database connection closed.\n"
     ]
    }
   ],
   "source": [
    "# Load database credentials from YAML file\n",
    "with open('rds_upload_db_creds.yaml', 'r') as file:\n",
    "    creds = yaml.safe_load(file)\n",
    "\n",
    "try:\n",
    "    # Establish a database connection\n",
    "    connection = psycopg2.connect(\n",
    "        host=creds['RDS_HOST'],\n",
    "        user=creds['RDS_USER'],\n",
    "        password=creds['RDS_PASSWORD'],\n",
    "        database=creds['RDS_DATABASE']\n",
    "    )\n",
    "    # Check if the connection was successful\n",
    "    if connection:\n",
    "        print (f\"Connected to {creds['RDS_DATABASE']} database\")\n",
    "\n",
    "    # Add primary key to dim_store_details\n",
    "    with connection.cursor() as cursor:\n",
    "        cursor.execute(\"\"\"\n",
    "            ALTER TABLE dim_store_details\n",
    "            ADD PRIMARY KEY (store_code);\n",
    "                       \"\"\")\n",
    "        connection.commit()\n",
    "        print(\"Primary key set on dim_store_details successfully.\")\n",
    "    \n",
    "except Exception as e:\n",
    "    print(f\"Error: {e}\")\n",
    "\n",
    "finally:\n",
    "    if connection:\n",
    "        connection.close()\n",
    "        print(\"Database connection closed.\")"
   ]
  }
 ],
 "metadata": {
  "kernelspec": {
   "display_name": "base",
   "language": "python",
   "name": "python3"
  },
  "language_info": {
   "codemirror_mode": {
    "name": "ipython",
    "version": 3
   },
   "file_extension": ".py",
   "mimetype": "text/x-python",
   "name": "python",
   "nbconvert_exporter": "python",
   "pygments_lexer": "ipython3",
   "version": "3.11.6"
  }
 },
 "nbformat": 4,
 "nbformat_minor": 2
}
