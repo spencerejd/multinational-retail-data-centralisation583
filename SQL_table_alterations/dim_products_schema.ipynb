{
 "cells": [
  {
   "cell_type": "markdown",
   "metadata": {},
   "source": [
    "## Update dim_products schema"
   ]
  },
  {
   "cell_type": "code",
   "execution_count": 1,
   "metadata": {},
   "outputs": [],
   "source": [
    "import yaml\n",
    "import psycopg2"
   ]
  },
  {
   "cell_type": "markdown",
   "metadata": {},
   "source": [
    "#### Update product_price column"
   ]
  },
  {
   "cell_type": "code",
   "execution_count": 2,
   "metadata": {},
   "outputs": [
    {
     "name": "stdout",
     "output_type": "stream",
     "text": [
      "Connected to sales_data database\n",
      "Task 4: dim_products table updated successfully.\n",
      "Connection closed\n"
     ]
    }
   ],
   "source": [
    "# Load database credentials from YAML file\n",
    "with open('rds_upload_db_creds.yaml', 'r') as file:\n",
    "    creds = yaml.safe_load(file)\n",
    "\n",
    "try:\n",
    "    # Establish a database connection\n",
    "    connection = psycopg2.connect(\n",
    "        host=creds['RDS_HOST'],\n",
    "        user=creds['RDS_USER'],\n",
    "        password=creds['RDS_PASSWORD'],\n",
    "        database=creds['RDS_DATABASE']\n",
    "    )\n",
    "    # Check if the connection was successful\n",
    "    if connection:\n",
    "        print (f\"Connected to {creds['RDS_DATABASE']} database\")\n",
    "\n",
    "# Modify dim_products table: update product_price column\n",
    "    with connection.cursor() as cursor:\n",
    "\n",
    "        # Step 1: Remove the '£' character from product_price\n",
    "        cursor.execute(\"\"\"\n",
    "            UPDATE dim_products\n",
    "            SET product_price = REPLACE(product_price, '£', '');\n",
    "                       \"\"\")\n",
    "\n",
    "        # Step 2: Add the weight_class column\n",
    "        cursor.execute(\"\"\"\n",
    "            ALTER TABLE dim_products\n",
    "            ADD COLUMN weight_class VARCHAR(255);\n",
    "        \"\"\")\n",
    "\n",
    "        # Populate the weight_class column\n",
    "        cursor.execute(\"\"\"\n",
    "            UPDATE dim_products\n",
    "            SET weight_class = CASE\n",
    "                WHEN weight < 2 THEN 'Light'\n",
    "                WHEN weight >= 2 AND weight < 40 THEN 'Mid_Sized'\n",
    "                WHEN weight >= 40 AND weight < 140 THEN 'Heavy'\n",
    "                WHEN weight >= 140 THEN 'Truck_Required'\n",
    "                ELSE 'Unknown'\n",
    "            END;\n",
    "        \"\"\")\n",
    "\n",
    "        connection.commit()\n",
    "        print(\"Task 4: dim_products table updated successfully.\")\n",
    "\n",
    "except Exception as e:\n",
    "    print(f\"Error: {e}\")\n",
    "\n",
    "finally:\n",
    "    # Close the connection\n",
    "    if connection:\n",
    "        connection.close()\n",
    "        \n",
    "        print(\"Connection closed\")"
   ]
  },
  {
   "cell_type": "markdown",
   "metadata": {},
   "source": [
    "#### Update dim_products schema"
   ]
  },
  {
   "cell_type": "code",
   "execution_count": 3,
   "metadata": {},
   "outputs": [
    {
     "name": "stdout",
     "output_type": "stream",
     "text": [
      "Connected to sales_data database\n",
      "Task 5: Column 'removed' changed to 'still_available'.\n",
      "Connection closed\n"
     ]
    }
   ],
   "source": [
    "# Load database credentials from YAML file\n",
    "with open('rds_upload_db_creds.yaml', 'r') as file:\n",
    "    creds = yaml.safe_load(file)\n",
    "\n",
    "try:\n",
    "    # Establish a database connection\n",
    "    connection = psycopg2.connect(\n",
    "        host=creds['RDS_HOST'],\n",
    "        user=creds['RDS_USER'],\n",
    "        password=creds['RDS_PASSWORD'],\n",
    "        database=creds['RDS_DATABASE']\n",
    "    )\n",
    "    # Check if the connection was successful\n",
    "    if connection:\n",
    "        print (f\"Connected to {creds['RDS_DATABASE']} database\")\n",
    "    \n",
    "\n",
    "    # Modify dim_products table: rename removed column\n",
    "    with connection.cursor() as cursor:\n",
    "        # Rename column\n",
    "        cursor.execute(\"ALTER TABLE dim_products RENAME COLUMN removed TO still_available\")\n",
    "\n",
    "        connection.commit()\n",
    "        print(\"Task 5: Column 'removed' changed to 'still_available'.\")\n",
    "    \n",
    "\n",
    "except Exception as e:\n",
    "    print(f\"Error: {e}\")\n",
    "\n",
    "finally:\n",
    "    # Close the connection\n",
    "    if connection:\n",
    "        connection.close()\n",
    "        \n",
    "        print(\"Connection closed\")"
   ]
  },
  {
   "cell_type": "markdown",
   "metadata": {},
   "source": [
    "#### Update dim_products schema"
   ]
  },
  {
   "cell_type": "code",
   "execution_count": 4,
   "metadata": {},
   "outputs": [
    {
     "name": "stdout",
     "output_type": "stream",
     "text": [
      "Connected to sales_data database\n",
      "(17, 11, 9)\n",
      "Task 5: Data types in dim_products altered successfully\n",
      "Connection closed\n"
     ]
    }
   ],
   "source": [
    "# Load database credentials from YAML file\n",
    "with open('rds_upload_db_creds.yaml', 'r') as file:\n",
    "    creds = yaml.safe_load(file)\n",
    "\n",
    "try:\n",
    "    # Establish a database connection\n",
    "    connection = psycopg2.connect(\n",
    "        host=creds['RDS_HOST'],\n",
    "        user=creds['RDS_USER'],\n",
    "        password=creds['RDS_PASSWORD'],\n",
    "        database=creds['RDS_DATABASE']\n",
    "    )\n",
    "    # Check if the connection was successful\n",
    "    if connection:\n",
    "        print (f\"Connected to {creds['RDS_DATABASE']} database\")\n",
    "    \n",
    "\n",
    "    # Modify dim_products table: cast columns to the required data types\n",
    "    with connection.cursor() as cursor:\n",
    "        # Find the max length for the objects contained within the following columns\n",
    "        cursor.execute(\"\"\"\n",
    "            SELECT\n",
    "                MAX(LENGTH(\"EAN\")) AS max_EAN,\n",
    "                MAX(LENGTH(product_code)) AS max_product_code,\n",
    "                MAX(LENGTH(weight_class)) AS max_weight_class\n",
    "            FROM dim_products\n",
    "        \"\"\")\n",
    "        max_lengths = cursor.fetchone()\n",
    "        print(max_lengths)\n",
    "    \n",
    "    with connection.cursor() as cursor:\n",
    "        # Transform 'still_available' column for appropriate interpretation as boolean\n",
    "        cursor.execute(\"\"\"\n",
    "            UPDATE dim_products\n",
    "            SET still_available = CASE\n",
    "                WHEN still_available = 'Still_avaliable' THEN 'true'\n",
    "                WHEN still_available = 'Removed' THEN 'false'\n",
    "            END;\n",
    "                       \"\"\")\n",
    "\n",
    "    with connection.cursor() as cursor:\n",
    "        # Alter columns\n",
    "        cursor.execute(\"ALTER TABLE dim_products ALTER COLUMN product_price TYPE FLOAT USING product_price::FLOAT\")\n",
    "        cursor.execute(\"ALTER TABLE dim_products ALTER COLUMN weight TYPE FLOAT USING weight::FLOAT\")\n",
    "        cursor.execute('ALTER TABLE dim_products ALTER COLUMN \"EAN\" TYPE VARCHAR(%s) USING \"EAN\"::VARCHAR(%s);',(max_lengths[0], max_lengths[0]))\n",
    "        cursor.execute('ALTER TABLE dim_products ALTER COLUMN product_code TYPE VARCHAR(%s) USING product_code::VARCHAR(%s);',(max_lengths[1], max_lengths[1]))\n",
    "        cursor.execute('ALTER TABLE dim_products ALTER COLUMN date_added TYPE DATE USING date_added::DATE;')\n",
    "        cursor.execute('ALTER TABLE dim_products ALTER COLUMN uuid TYPE UUID USING uuid::UUID;')\n",
    "        cursor.execute('ALTER TABLE dim_products ALTER COLUMN still_available TYPE BOOL USING still_available::BOOL')\n",
    "        cursor.execute('ALTER TABLE dim_products ALTER COLUMN weight_class TYPE VARCHAR(%s) USING weight_class::VARCHAR(%s);',(max_lengths[2], max_lengths[2]))\n",
    "\n",
    "        connection.commit()\n",
    "        print(\"Task 5: Data types in dim_products altered successfully\")\n",
    "    \n",
    "\n",
    "except Exception as e:\n",
    "    print(f\"Error: {e}\")\n",
    "\n",
    "finally:\n",
    "    # Close the connection\n",
    "    if connection:\n",
    "        connection.close()\n",
    "        \n",
    "        print(\"Connection closed\")"
   ]
  },
  {
   "cell_type": "markdown",
   "metadata": {},
   "source": []
  }
 ],
 "metadata": {
  "kernelspec": {
   "display_name": "base",
   "language": "python",
   "name": "python3"
  },
  "language_info": {
   "codemirror_mode": {
    "name": "ipython",
    "version": 3
   },
   "file_extension": ".py",
   "mimetype": "text/x-python",
   "name": "python",
   "nbconvert_exporter": "python",
   "pygments_lexer": "ipython3",
   "version": "3.11.6"
  }
 },
 "nbformat": 4,
 "nbformat_minor": 2
}
