{
 "cells": [
  {
   "cell_type": "markdown",
   "metadata": {},
   "source": [
    "## Set foreign keys in orders_table"
   ]
  },
  {
   "cell_type": "code",
   "execution_count": 1,
   "metadata": {},
   "outputs": [],
   "source": [
    "import yaml\n",
    "import psycopg2"
   ]
  },
  {
   "cell_type": "markdown",
   "metadata": {},
   "source": [
    "### 1. dim_card_details"
   ]
  },
  {
   "cell_type": "code",
   "execution_count": 2,
   "metadata": {},
   "outputs": [
    {
     "name": "stdout",
     "output_type": "stream",
     "text": [
      "Connected to sales_data database\n",
      "Foreign key for dim_card_details added to orders_table successfully.\n",
      "Database connection closed.\n"
     ]
    }
   ],
   "source": [
    "# Load database credentials from YAML file\n",
    "with open('rds_upload_db_creds.yaml', 'r') as file:\n",
    "    creds = yaml.safe_load(file)\n",
    "\n",
    "try:\n",
    "    # Establish a database connection\n",
    "    connection = psycopg2.connect(\n",
    "        host=creds['RDS_HOST'],\n",
    "        user=creds['RDS_USER'],\n",
    "        password=creds['RDS_PASSWORD'],\n",
    "        database=creds['RDS_DATABASE']\n",
    "    )\n",
    "    # Check if the connection was successful\n",
    "    if connection:\n",
    "        print (f\"Connected to {creds['RDS_DATABASE']} database\")\n",
    "\n",
    "    # Add foreign key for dim_card_details to the orders table\n",
    "    with connection.cursor() as cursor:\n",
    "        cursor.execute(\"\"\"\n",
    "            ALTER TABLE orders_table\n",
    "            ADD CONSTRAINT fk_orders_card_details FOREIGN KEY (card_number)\n",
    "            REFERENCES dim_card_details (card_number);\n",
    "            \"\"\")\n",
    "        connection.commit()\n",
    "        print(\"Foreign key for dim_card_details added to orders_table successfully.\")\n",
    "\n",
    "except Exception as e:\n",
    "    print(f\"Error: {e}\")\n",
    "\n",
    "finally:\n",
    "    if connection:\n",
    "        connection.close()\n",
    "        print(\"Database connection closed.\")"
   ]
  },
  {
   "cell_type": "markdown",
   "metadata": {},
   "source": [
    "### 2. dim_date_times"
   ]
  },
  {
   "cell_type": "code",
   "execution_count": 2,
   "metadata": {},
   "outputs": [
    {
     "name": "stdout",
     "output_type": "stream",
     "text": [
      "Connected to sales_data database\n",
      "Foreign key for dim_date_times added to orders_table successfully.\n",
      "Database connection closed.\n"
     ]
    }
   ],
   "source": [
    "# Load database credentials from YAML file\n",
    "with open('rds_upload_db_creds.yaml', 'r') as file:\n",
    "    creds = yaml.safe_load(file)\n",
    "\n",
    "try:\n",
    "    # Establish a database connection\n",
    "    connection = psycopg2.connect(\n",
    "        host=creds['RDS_HOST'],\n",
    "        user=creds['RDS_USER'],\n",
    "        password=creds['RDS_PASSWORD'],\n",
    "        database=creds['RDS_DATABASE']\n",
    "    )\n",
    "    # Check if the connection was successful\n",
    "    if connection:\n",
    "        print (f\"Connected to {creds['RDS_DATABASE']} database\")\n",
    "\n",
    "    # Add foreign key for dim_date_times to orders table\n",
    "    with connection.cursor() as cursor:\n",
    "        cursor.execute(\"\"\"\n",
    "            ALTER TABLE orders_table\n",
    "            ADD CONSTRAINT fk_orders_date_times FOREIGN KEY (date_uuid)\n",
    "            REFERENCES dim_date_times (date_uuid);\n",
    "            \"\"\")\n",
    "        connection.commit()\n",
    "        print(\"Foreign key for dim_date_times added to orders_table successfully.\")\n",
    "\n",
    "except Exception as e:\n",
    "    print(f\"Error: {e}\")\n",
    "\n",
    "finally:\n",
    "    if connection:\n",
    "        connection.close()\n",
    "        print(\"Database connection closed.\")"
   ]
  },
  {
   "cell_type": "markdown",
   "metadata": {},
   "source": [
    "### 3. dim_products"
   ]
  },
  {
   "cell_type": "code",
   "execution_count": 3,
   "metadata": {},
   "outputs": [
    {
     "name": "stdout",
     "output_type": "stream",
     "text": [
      "Connected to sales_data database\n",
      "Foreign key for dim_products added to orders_table successfully.\n",
      "Database connection closed.\n"
     ]
    }
   ],
   "source": [
    "# Load database credentials from YAML file\n",
    "with open('rds_upload_db_creds.yaml', 'r') as file:\n",
    "    creds = yaml.safe_load(file)\n",
    "\n",
    "try:\n",
    "    # Establish a database connection\n",
    "    connection = psycopg2.connect(\n",
    "        host=creds['RDS_HOST'],\n",
    "        user=creds['RDS_USER'],\n",
    "        password=creds['RDS_PASSWORD'],\n",
    "        database=creds['RDS_DATABASE']\n",
    "    )\n",
    "    # Check if the connection was successful\n",
    "    if connection:\n",
    "        print (f\"Connected to {creds['RDS_DATABASE']} database\")\n",
    "\n",
    "    # Add foreign key for dim_products to the orders table\n",
    "    with connection.cursor() as cursor:\n",
    "        cursor.execute(\"\"\"\n",
    "            ALTER TABLE orders_table\n",
    "            ADD CONSTRAINT fk_orders_products FOREIGN KEY (product_code)\n",
    "            REFERENCES dim_products (product_code);\n",
    "            \"\"\")\n",
    "        connection.commit()\n",
    "        print(\"Foreign key for dim_products added to orders_table successfully.\")\n",
    "\n",
    "except Exception as e:\n",
    "    print(f\"Error: {e}\")\n",
    "\n",
    "finally:\n",
    "    if connection:\n",
    "        connection.close()\n",
    "        print(\"Database connection closed.\")"
   ]
  },
  {
   "cell_type": "markdown",
   "metadata": {},
   "source": [
    "### 4. dim_store_details"
   ]
  },
  {
   "cell_type": "code",
   "execution_count": 2,
   "metadata": {},
   "outputs": [
    {
     "name": "stdout",
     "output_type": "stream",
     "text": [
      "Connected to sales_data database\n",
      "Foreign key for dim_store_details added to orders_table successfully.\n",
      "Database connection closed.\n"
     ]
    }
   ],
   "source": [
    "# Load database credentials from YAML file\n",
    "with open('rds_upload_db_creds.yaml', 'r') as file:\n",
    "    creds = yaml.safe_load(file)\n",
    "\n",
    "try:\n",
    "    # Establish a database connection\n",
    "    connection = psycopg2.connect(\n",
    "        host=creds['RDS_HOST'],\n",
    "        user=creds['RDS_USER'],\n",
    "        password=creds['RDS_PASSWORD'],\n",
    "        database=creds['RDS_DATABASE']\n",
    "    )\n",
    "    # Check if the connection was successful\n",
    "    if connection:\n",
    "        print (f\"Connected to {creds['RDS_DATABASE']} database\")\n",
    "\n",
    "    # Add foreign key for dim_store_details to the orders table\n",
    "    with connection.cursor() as cursor:\n",
    "        cursor.execute(\"\"\"\n",
    "            ALTER TABLE orders_table\n",
    "            ADD CONSTRAINT fk_orders_store_details FOREIGN KEY (store_code)\n",
    "            REFERENCES dim_store_details (store_code);\n",
    "            \"\"\")\n",
    "        connection.commit()\n",
    "        print(\"Foreign key for dim_store_details added to orders_table successfully.\")\n",
    "\n",
    "except Exception as e:\n",
    "    print(f\"Error: {e}\")\n",
    "\n",
    "finally:\n",
    "    if connection:\n",
    "        connection.close()\n",
    "        print(\"Database connection closed.\")"
   ]
  },
  {
   "cell_type": "markdown",
   "metadata": {},
   "source": [
    "### 5. dim_users"
   ]
  },
  {
   "cell_type": "code",
   "execution_count": 3,
   "metadata": {},
   "outputs": [
    {
     "name": "stdout",
     "output_type": "stream",
     "text": [
      "Connected to sales_data database\n",
      "Foreign key for dim_users added to orders_table successfully.\n",
      "Database connection closed.\n"
     ]
    }
   ],
   "source": [
    "# Load database credentials from YAML file\n",
    "with open('rds_upload_db_creds.yaml', 'r') as file:\n",
    "    creds = yaml.safe_load(file)\n",
    "\n",
    "try:\n",
    "    # Establish a database connection\n",
    "    connection = psycopg2.connect(\n",
    "        host=creds['RDS_HOST'],\n",
    "        user=creds['RDS_USER'],\n",
    "        password=creds['RDS_PASSWORD'],\n",
    "        database=creds['RDS_DATABASE']\n",
    "    )\n",
    "    # Check if the connection was successful\n",
    "    if connection:\n",
    "        print (f\"Connected to {creds['RDS_DATABASE']} database\")\n",
    "\n",
    "    # Add foreign key for dim_users to the orders table\n",
    "    with connection.cursor() as cursor:\n",
    "        cursor.execute(\"\"\"\n",
    "            ALTER TABLE orders_table\n",
    "            ADD CONSTRAINT fk_orders_users FOREIGN KEY (user_uuid)\n",
    "            REFERENCES dim_users (user_uuid);\n",
    "            \"\"\")\n",
    "        connection.commit()\n",
    "        print(\"Foreign key for dim_users added to orders_table successfully.\")\n",
    "\n",
    "except Exception as e:\n",
    "    print(f\"Error: {e}\")\n",
    "\n",
    "finally:\n",
    "    if connection:\n",
    "        connection.close()\n",
    "        print(\"Database connection closed.\")"
   ]
  }
 ],
 "metadata": {
  "kernelspec": {
   "display_name": "base",
   "language": "python",
   "name": "python3"
  },
  "language_info": {
   "codemirror_mode": {
    "name": "ipython",
    "version": 3
   },
   "file_extension": ".py",
   "mimetype": "text/x-python",
   "name": "python",
   "nbconvert_exporter": "python",
   "pygments_lexer": "ipython3",
   "version": "3.11.6"
  }
 },
 "nbformat": 4,
 "nbformat_minor": 2
}
