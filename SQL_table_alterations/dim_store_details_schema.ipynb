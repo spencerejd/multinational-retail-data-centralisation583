{
 "cells": [
  {
   "cell_type": "markdown",
   "metadata": {},
   "source": [
    "## Update dim_store_details schema"
   ]
  },
  {
   "cell_type": "code",
   "execution_count": 1,
   "metadata": {},
   "outputs": [],
   "source": [
    "import yaml\n",
    "import psycopg2"
   ]
  },
  {
   "cell_type": "code",
   "execution_count": 2,
   "metadata": {},
   "outputs": [
    {
     "name": "stdout",
     "output_type": "stream",
     "text": [
      "Connected to sales_data database\n",
      "Task 3: Operations on dim_store_details completed successfully.\n",
      "Connection closed\n"
     ]
    }
   ],
   "source": [
    "# Load database credentials from YAML file\n",
    "with open('rds_upload_db_creds.yaml', 'r') as file:\n",
    "    creds = yaml.safe_load(file)\n",
    "\n",
    "try:\n",
    "    # Establish a database connection\n",
    "    connection = psycopg2.connect(\n",
    "        host=creds['RDS_HOST'],\n",
    "        user=creds['RDS_USER'],\n",
    "        password=creds['RDS_PASSWORD'],\n",
    "        database=creds['RDS_DATABASE']\n",
    "    )\n",
    "    # Check if the connection was successful\n",
    "    if connection:\n",
    "        print (f\"Connected to {creds['RDS_DATABASE']} database\")\n",
    "\n",
    "    # Modify dim_store_details table\n",
    "        \n",
    "    with connection.cursor() as cursor:\n",
    "        # Merge latitude columns and drop 'lat' column\n",
    "        #\n",
    "        cursor.execute(\"\"\"\n",
    "            UPDATE dim_store_details\n",
    "            SET latitude = COALESCE(latitude, lat);\n",
    "            ALTER TABLE dim_store_details DROP COLUMN lat;\n",
    "        \"\"\")\n",
    "\n",
    "        # Alter column data types\n",
    "        cursor.execute(\"\"\"\n",
    "            ALTER TABLE dim_store_details\n",
    "            ALTER COLUMN longitude TYPE FLOAT USING longitude::FLOAT,\n",
    "            ALTER COLUMN locality TYPE VARCHAR(255),\n",
    "            ALTER COLUMN store_code TYPE VARCHAR(255),\n",
    "            ALTER COLUMN staff_numbers TYPE SMALLINT USING staff_numbers::SMALLINT,\n",
    "            ALTER COLUMN opening_date TYPE DATE USING opening_date::DATE,\n",
    "            ALTER COLUMN store_type TYPE VARCHAR(255),\n",
    "            ALTER COLUMN latitude TYPE FLOAT USING latitude::FLOAT,\n",
    "            ALTER COLUMN country_code TYPE VARCHAR(255),\n",
    "            ALTER COLUMN continent TYPE VARCHAR(255);\n",
    "        \"\"\")\n",
    "\n",
    "    # Handle NULL Values\n",
    "    with connection.cursor() as cursor:\n",
    "        # Update string columns\n",
    "        text_columns_to_update = ['locality', 'store_code', 'store_type', 'country_code', 'continent']\n",
    "        for column in text_columns_to_update:\n",
    "            cursor.execute(f\"\"\"\n",
    "                UPDATE dim_store_details\n",
    "                SET {column} = COALESCE({column}, 'N/A')\n",
    "                WHERE {column} IS NULL;\n",
    "            \"\"\")\n",
    "        \n",
    "        # Update numeric columns with a default value\n",
    "        cursor.execute(\"\"\"\n",
    "            UPDATE dim_store_details\n",
    "            SET longitude = COALESCE(longitude, 0.0),\n",
    "                latitude = COALESCE(latitude, 0.0)\n",
    "            WHERE longitude IS NULL OR latitude IS NULL;\n",
    "        \"\"\")    \n",
    "\n",
    "        # Commit the transaction\n",
    "        connection.commit()\n",
    "        print(\"Task 3: Operations on dim_store_details completed successfully.\")\n",
    "    \n",
    "\n",
    "except Exception as e:\n",
    "    print(f\"Error: {e}\")\n",
    "\n",
    "finally:\n",
    "    # Close the connection\n",
    "    if connection:\n",
    "        connection.close()\n",
    "        \n",
    "        print(\"Connection closed\")"
   ]
  }
 ],
 "metadata": {
  "kernelspec": {
   "display_name": "base",
   "language": "python",
   "name": "python3"
  },
  "language_info": {
   "codemirror_mode": {
    "name": "ipython",
    "version": 3
   },
   "file_extension": ".py",
   "mimetype": "text/x-python",
   "name": "python",
   "nbconvert_exporter": "python",
   "pygments_lexer": "ipython3",
   "version": "3.11.6"
  }
 },
 "nbformat": 4,
 "nbformat_minor": 2
}
